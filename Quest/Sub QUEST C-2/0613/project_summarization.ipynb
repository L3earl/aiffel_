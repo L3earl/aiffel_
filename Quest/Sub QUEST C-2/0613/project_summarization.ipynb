{
 "cells": [
  {
   "metadata": {},
   "cell_type": "markdown",
   "source": [
    "# 8. 뉴스 요약봇 만들기 [프로젝트]\n",
    "\n",
    "## 8-1. 프로젝트: 뉴스기사 요약해보기"
   ],
   "id": "27efe89b6a94cdcf"
  },
  {
   "cell_type": "code",
   "id": "initial_id",
   "metadata": {
    "collapsed": true,
    "ExecuteTime": {
     "end_time": "2024-06-14T02:42:35.502074Z",
     "start_time": "2024-06-14T02:42:35.488305Z"
    }
   },
   "source": [
    "import pandas\n",
    "from importlib.metadata import version\n",
    "import nltk\n",
    "import tensorflow\n",
    "import summa\n",
    "\n",
    "print(nltk.__version__)\n",
    "print(tensorflow.__version__)\n",
    "print(pandas.__version__)\n",
    "print(version('summa'))"
   ],
   "outputs": [
    {
     "name": "stdout",
     "output_type": "stream",
     "text": [
      "3.8.1\n",
      "2.10.0\n",
      "2.2.1\n",
      "1.2.0\n"
     ]
    }
   ],
   "execution_count": 17
  },
  {
   "metadata": {},
   "cell_type": "markdown",
   "source": [
    "### Step 1. 데이터 수집하기\n",
    "\n",
    "이 데이터는 기사의 본문에 해당되는 text와 headlines 두 가지 열로 구성되어져 있습니다.\n",
    "\n",
    "추상적 요약을 하는 경우에는 text를 본문, headlines를 이미 요약된 데이터로 삼아서 모델을 학습할 수 있어요. 추출적 요약을 하는 경우에는 오직 text열만을 사용하세요.\n"
   ],
   "id": "c0b2af1898324c15"
  },
  {
   "metadata": {
    "ExecuteTime": {
     "end_time": "2024-06-14T02:43:11.910628Z",
     "start_time": "2024-06-14T02:42:35.519980Z"
    }
   },
   "cell_type": "code",
   "source": [
    "import pandas as pd\n",
    "\n",
    "import urllib.request\n",
    "urllib.request.urlretrieve(\"https://raw.githubusercontent.com/sunnysai12345/News_Summary/master/news_summary_more.csv\", filename=\"news_summary_more.csv\")\n",
    "data = pd.read_csv('news_summary_more.csv', encoding='iso-8859-1')"
   ],
   "id": "9c1d1688c56211a4",
   "outputs": [],
   "execution_count": 18
  },
  {
   "metadata": {
    "ExecuteTime": {
     "end_time": "2024-06-14T02:43:11.925617Z",
     "start_time": "2024-06-14T02:43:11.911629Z"
    }
   },
   "cell_type": "code",
   "source": "data.sample(10)",
   "id": "8ed400a9108d3636",
   "outputs": [
    {
     "data": {
      "text/plain": [
       "                                               headlines  \\\n",
       "55506  Facebook accused of age discrimination in job ads   \n",
       "3581   70-year-old man arrested for molesting woman i...   \n",
       "51272  Awards mean nothing: Mala Sinha on her 1st Fil...   \n",
       "56967  Danish bank's wealth management robot has 11,5...   \n",
       "89064  Mumbai Indians becomes first team to win 100 T...   \n",
       "69274  India, China performance to decide shaping of ...   \n",
       "83559    Javed Akhtar reacts to recent cases of lynching   \n",
       "82892  CBI to give Ã¢ÂÂ¹10 lakh for info on missing ...   \n",
       "80753  Centre mulls jailing NGO heads hiding public f...   \n",
       "76500  Sony TV renews 'The Kapil Sharma Show' for a n...   \n",
       "\n",
       "                                                    text  \n",
       "55506  Facebook has been accused of age discriminatio...  \n",
       "3581   A 70-year-old man has been arrested for allege...  \n",
       "51272  On receiving her first Filmfare award for Life...  \n",
       "56967  Denmark's Danske Bank has attracted 11,500 cli...  \n",
       "89064  Mumbai Indians became the first-ever team to w...  \n",
       "69274  Congress Vice President Rahul Gandhi on Wednes...  \n",
       "83559  Lyricist Javed Akhtar took to Twitter to conde...  \n",
       "82892  The Central Bureau of Investigation (CBI) on T...  \n",
       "80753  The Centre on Wednesday told the Supreme Court...  \n",
       "76500  Sony TV has renewed 'The Kapil Sharma Show' fo...  "
      ],
      "text/html": [
       "<div>\n",
       "<style scoped>\n",
       "    .dataframe tbody tr th:only-of-type {\n",
       "        vertical-align: middle;\n",
       "    }\n",
       "\n",
       "    .dataframe tbody tr th {\n",
       "        vertical-align: top;\n",
       "    }\n",
       "\n",
       "    .dataframe thead th {\n",
       "        text-align: right;\n",
       "    }\n",
       "</style>\n",
       "<table border=\"1\" class=\"dataframe\">\n",
       "  <thead>\n",
       "    <tr style=\"text-align: right;\">\n",
       "      <th></th>\n",
       "      <th>headlines</th>\n",
       "      <th>text</th>\n",
       "    </tr>\n",
       "  </thead>\n",
       "  <tbody>\n",
       "    <tr>\n",
       "      <th>55506</th>\n",
       "      <td>Facebook accused of age discrimination in job ads</td>\n",
       "      <td>Facebook has been accused of age discriminatio...</td>\n",
       "    </tr>\n",
       "    <tr>\n",
       "      <th>3581</th>\n",
       "      <td>70-year-old man arrested for molesting woman i...</td>\n",
       "      <td>A 70-year-old man has been arrested for allege...</td>\n",
       "    </tr>\n",
       "    <tr>\n",
       "      <th>51272</th>\n",
       "      <td>Awards mean nothing: Mala Sinha on her 1st Fil...</td>\n",
       "      <td>On receiving her first Filmfare award for Life...</td>\n",
       "    </tr>\n",
       "    <tr>\n",
       "      <th>56967</th>\n",
       "      <td>Danish bank's wealth management robot has 11,5...</td>\n",
       "      <td>Denmark's Danske Bank has attracted 11,500 cli...</td>\n",
       "    </tr>\n",
       "    <tr>\n",
       "      <th>89064</th>\n",
       "      <td>Mumbai Indians becomes first team to win 100 T...</td>\n",
       "      <td>Mumbai Indians became the first-ever team to w...</td>\n",
       "    </tr>\n",
       "    <tr>\n",
       "      <th>69274</th>\n",
       "      <td>India, China performance to decide shaping of ...</td>\n",
       "      <td>Congress Vice President Rahul Gandhi on Wednes...</td>\n",
       "    </tr>\n",
       "    <tr>\n",
       "      <th>83559</th>\n",
       "      <td>Javed Akhtar reacts to recent cases of lynching</td>\n",
       "      <td>Lyricist Javed Akhtar took to Twitter to conde...</td>\n",
       "    </tr>\n",
       "    <tr>\n",
       "      <th>82892</th>\n",
       "      <td>CBI to give Ã¢ÂÂ¹10 lakh for info on missing ...</td>\n",
       "      <td>The Central Bureau of Investigation (CBI) on T...</td>\n",
       "    </tr>\n",
       "    <tr>\n",
       "      <th>80753</th>\n",
       "      <td>Centre mulls jailing NGO heads hiding public f...</td>\n",
       "      <td>The Centre on Wednesday told the Supreme Court...</td>\n",
       "    </tr>\n",
       "    <tr>\n",
       "      <th>76500</th>\n",
       "      <td>Sony TV renews 'The Kapil Sharma Show' for a n...</td>\n",
       "      <td>Sony TV has renewed 'The Kapil Sharma Show' fo...</td>\n",
       "    </tr>\n",
       "  </tbody>\n",
       "</table>\n",
       "</div>"
      ]
     },
     "execution_count": 19,
     "metadata": {},
     "output_type": "execute_result"
    }
   ],
   "execution_count": 19
  },
  {
   "metadata": {
    "ExecuteTime": {
     "end_time": "2024-06-14T02:43:11.941626Z",
     "start_time": "2024-06-14T02:43:11.926617Z"
    }
   },
   "cell_type": "code",
   "source": "",
   "id": "5610d7f0f8601166",
   "outputs": [],
   "execution_count": 19
  },
  {
   "metadata": {},
   "cell_type": "markdown",
   "source": [
    "### Step 2. 데이터 전처리하기 (추상적 요약)\n",
    "\n",
    "실습에서 사용된 전처리를 참고하여 각자 필요하다고 생각하는 전처리를 추가 사용하여 텍스트를 정규화 또는 정제해 보세요. 만약, 불용어 제거를 선택한다면 상대적으로 길이가 짧은 요약 데이터에 대해서도 불용어를 제거하는 것이 좋을지 고민해 보세요."
   ],
   "id": "7b7e0c5ba3197511"
  },
  {
   "metadata": {
    "ExecuteTime": {
     "end_time": "2024-06-14T02:43:12.064456Z",
     "start_time": "2024-06-14T02:43:11.942673Z"
    }
   },
   "cell_type": "code",
   "source": [
    "print(data.info())\n",
    "\n",
    "print('headlines 열에서 중복을 배제한 유일한 샘플의 수 :', data['headlines'].nunique())\n",
    "print('text 열에서 중복을 배제한 유일한 샘플의 수 :', data['text'].nunique())"
   ],
   "id": "ee453c3df4abbb82",
   "outputs": [
    {
     "name": "stdout",
     "output_type": "stream",
     "text": [
      "<class 'pandas.core.frame.DataFrame'>\n",
      "RangeIndex: 98401 entries, 0 to 98400\n",
      "Data columns (total 2 columns):\n",
      " #   Column     Non-Null Count  Dtype \n",
      "---  ------     --------------  ----- \n",
      " 0   headlines  98401 non-null  object\n",
      " 1   text       98401 non-null  object\n",
      "dtypes: object(2)\n",
      "memory usage: 1.5+ MB\n",
      "None\n",
      "headlines 열에서 중복을 배제한 유일한 샘플의 수 : 98280\n",
      "text 열에서 중복을 배제한 유일한 샘플의 수 : 98360\n"
     ]
    }
   ],
   "execution_count": 20
  },
  {
   "metadata": {
    "ExecuteTime": {
     "end_time": "2024-06-14T02:43:12.095955Z",
     "start_time": "2024-06-14T02:43:12.065499Z"
    }
   },
   "cell_type": "code",
   "source": [
    "data.drop_duplicates(subset = ['text'], inplace=True)\n",
    "print('전체 샘플수 :', (len(data)))"
   ],
   "id": "2fd52e125c21956e",
   "outputs": [
    {
     "name": "stdout",
     "output_type": "stream",
     "text": [
      "전체 샘플수 : 98360\n"
     ]
    }
   ],
   "execution_count": 21
  },
  {
   "metadata": {
    "ExecuteTime": {
     "end_time": "2024-06-14T02:43:12.111169Z",
     "start_time": "2024-06-14T02:43:12.097004Z"
    }
   },
   "cell_type": "code",
   "source": "print(data.isnull().sum())",
   "id": "8e2c12bca0de04ce",
   "outputs": [
    {
     "name": "stdout",
     "output_type": "stream",
     "text": [
      "headlines    0\n",
      "text         0\n",
      "dtype: int64\n"
     ]
    }
   ],
   "execution_count": 22
  },
  {
   "metadata": {
    "ExecuteTime": {
     "end_time": "2024-06-14T02:43:12.126416Z",
     "start_time": "2024-06-14T02:43:12.112218Z"
    }
   },
   "cell_type": "code",
   "source": [
    "contractions = {\"ain't\": \"is not\", \"aren't\": \"are not\",\"can't\": \"cannot\", \"'cause\": \"because\", \"could've\": \"could have\", \"couldn't\": \"could not\",\n",
    "                           \"didn't\": \"did not\",  \"doesn't\": \"does not\", \"don't\": \"do not\", \"hadn't\": \"had not\", \"hasn't\": \"has not\", \"haven't\": \"have not\",\n",
    "                           \"he'd\": \"he would\",\"he'll\": \"he will\", \"he's\": \"he is\", \"how'd\": \"how did\", \"how'd'y\": \"how do you\", \"how'll\": \"how will\", \"how's\": \"how is\",\n",
    "                           \"I'd\": \"I would\", \"I'd've\": \"I would have\", \"I'll\": \"I will\", \"I'll've\": \"I will have\",\"I'm\": \"I am\", \"I've\": \"I have\", \"i'd\": \"i would\",\n",
    "                           \"i'd've\": \"i would have\", \"i'll\": \"i will\",  \"i'll've\": \"i will have\",\"i'm\": \"i am\", \"i've\": \"i have\", \"isn't\": \"is not\", \"it'd\": \"it would\",\n",
    "                           \"it'd've\": \"it would have\", \"it'll\": \"it will\", \"it'll've\": \"it will have\",\"it's\": \"it is\", \"let's\": \"let us\", \"ma'am\": \"madam\",\n",
    "                           \"mayn't\": \"may not\", \"might've\": \"might have\",\"mightn't\": \"might not\",\"mightn't've\": \"might not have\", \"must've\": \"must have\",\n",
    "                           \"mustn't\": \"must not\", \"mustn't've\": \"must not have\", \"needn't\": \"need not\", \"needn't've\": \"need not have\",\"o'clock\": \"of the clock\",\n",
    "                           \"oughtn't\": \"ought not\", \"oughtn't've\": \"ought not have\", \"shan't\": \"shall not\", \"sha'n't\": \"shall not\", \"shan't've\": \"shall not have\",\n",
    "                           \"she'd\": \"she would\", \"she'd've\": \"she would have\", \"she'll\": \"she will\", \"she'll've\": \"she will have\", \"she's\": \"she is\",\n",
    "                           \"should've\": \"should have\", \"shouldn't\": \"should not\", \"shouldn't've\": \"should not have\", \"so've\": \"so have\",\"so's\": \"so as\",\n",
    "                           \"this's\": \"this is\",\"that'd\": \"that would\", \"that'd've\": \"that would have\", \"that's\": \"that is\", \"there'd\": \"there would\",\n",
    "                           \"there'd've\": \"there would have\", \"there's\": \"there is\", \"here's\": \"here is\",\"they'd\": \"they would\", \"they'd've\": \"they would have\",\n",
    "                           \"they'll\": \"they will\", \"they'll've\": \"they will have\", \"they're\": \"they are\", \"they've\": \"they have\", \"to've\": \"to have\",\n",
    "                           \"wasn't\": \"was not\", \"we'd\": \"we would\", \"we'd've\": \"we would have\", \"we'll\": \"we will\", \"we'll've\": \"we will have\", \"we're\": \"we are\",\n",
    "                           \"we've\": \"we have\", \"weren't\": \"were not\", \"what'll\": \"what will\", \"what'll've\": \"what will have\", \"what're\": \"what are\",\n",
    "                           \"what's\": \"what is\", \"what've\": \"what have\", \"when's\": \"when is\", \"when've\": \"when have\", \"where'd\": \"where did\", \"where's\": \"where is\",\n",
    "                           \"where've\": \"where have\", \"who'll\": \"who will\", \"who'll've\": \"who will have\", \"who's\": \"who is\", \"who've\": \"who have\",\n",
    "                           \"why's\": \"why is\", \"why've\": \"why have\", \"will've\": \"will have\", \"won't\": \"will not\", \"won't've\": \"will not have\",\n",
    "                           \"would've\": \"would have\", \"wouldn't\": \"would not\", \"wouldn't've\": \"would not have\", \"y'all\": \"you all\",\n",
    "                           \"y'all'd\": \"you all would\",\"y'all'd've\": \"you all would have\",\"y'all're\": \"you all are\",\"y'all've\": \"you all have\",\n",
    "                           \"you'd\": \"you would\", \"you'd've\": \"you would have\", \"you'll\": \"you will\", \"you'll've\": \"you will have\",\n",
    "                           \"you're\": \"you are\", \"you've\": \"you have\"}\n",
    "\n",
    "print(\"정규화 사전의 수: \", len(contractions))"
   ],
   "id": "fecfb5921f56af7b",
   "outputs": [
    {
     "name": "stdout",
     "output_type": "stream",
     "text": [
      "정규화 사전의 수:  120\n"
     ]
    }
   ],
   "execution_count": 23
  },
  {
   "metadata": {
    "ExecuteTime": {
     "end_time": "2024-06-14T02:43:12.141466Z",
     "start_time": "2024-06-14T02:43:12.127474Z"
    }
   },
   "cell_type": "code",
   "source": [
    "nltk.download('stopwords')\n",
    "from nltk.corpus import stopwords\n",
    "\n",
    "print('불용어 개수 :', len(stopwords.words('english') ))\n",
    "print(stopwords.words('english'))"
   ],
   "id": "34a1ae67d6c00fb3",
   "outputs": [
    {
     "name": "stdout",
     "output_type": "stream",
     "text": [
      "불용어 개수 : 179\n",
      "['i', 'me', 'my', 'myself', 'we', 'our', 'ours', 'ourselves', 'you', \"you're\", \"you've\", \"you'll\", \"you'd\", 'your', 'yours', 'yourself', 'yourselves', 'he', 'him', 'his', 'himself', 'she', \"she's\", 'her', 'hers', 'herself', 'it', \"it's\", 'its', 'itself', 'they', 'them', 'their', 'theirs', 'themselves', 'what', 'which', 'who', 'whom', 'this', 'that', \"that'll\", 'these', 'those', 'am', 'is', 'are', 'was', 'were', 'be', 'been', 'being', 'have', 'has', 'had', 'having', 'do', 'does', 'did', 'doing', 'a', 'an', 'the', 'and', 'but', 'if', 'or', 'because', 'as', 'until', 'while', 'of', 'at', 'by', 'for', 'with', 'about', 'against', 'between', 'into', 'through', 'during', 'before', 'after', 'above', 'below', 'to', 'from', 'up', 'down', 'in', 'out', 'on', 'off', 'over', 'under', 'again', 'further', 'then', 'once', 'here', 'there', 'when', 'where', 'why', 'how', 'all', 'any', 'both', 'each', 'few', 'more', 'most', 'other', 'some', 'such', 'no', 'nor', 'not', 'only', 'own', 'same', 'so', 'than', 'too', 'very', 's', 't', 'can', 'will', 'just', 'don', \"don't\", 'should', \"should've\", 'now', 'd', 'll', 'm', 'o', 're', 've', 'y', 'ain', 'aren', \"aren't\", 'couldn', \"couldn't\", 'didn', \"didn't\", 'doesn', \"doesn't\", 'hadn', \"hadn't\", 'hasn', \"hasn't\", 'haven', \"haven't\", 'isn', \"isn't\", 'ma', 'mightn', \"mightn't\", 'mustn', \"mustn't\", 'needn', \"needn't\", 'shan', \"shan't\", 'shouldn', \"shouldn't\", 'wasn', \"wasn't\", 'weren', \"weren't\", 'won', \"won't\", 'wouldn', \"wouldn't\"]\n"
     ]
    },
    {
     "name": "stderr",
     "output_type": "stream",
     "text": [
      "[nltk_data] Downloading package stopwords to\n",
      "[nltk_data]     C:\\Users\\square\\AppData\\Roaming\\nltk_data...\n",
      "[nltk_data]   Package stopwords is already up-to-date!\n"
     ]
    }
   ],
   "execution_count": 24
  },
  {
   "metadata": {
    "ExecuteTime": {
     "end_time": "2024-06-14T02:43:12.157028Z",
     "start_time": "2024-06-14T02:43:12.142510Z"
    }
   },
   "cell_type": "code",
   "source": [
    "import re\n",
    "from bs4 import BeautifulSoup \n",
    "\n",
    "\n",
    "# 데이터 전처리 함수\n",
    "def preprocess_sentence(sentence, remove_stopwords=True):\n",
    "    sentence = sentence.lower() # 텍스트 소문자화\n",
    "    sentence = BeautifulSoup(sentence, \"lxml\").text # <br />, <a href = ...> 등의 html 태그 제거\n",
    "    sentence = re.sub(r'\\([^)]*\\)', '', sentence) # 괄호로 닫힌 문자열 (...) 제거 Ex) my husband (and myself!) for => my husband for\n",
    "    sentence = re.sub('\"','', sentence) # 쌍따옴표 \" 제거\n",
    "    sentence = ' '.join([contractions[t] if t in contractions else t for t in sentence.split(\" \")]) # 약어 정규화\n",
    "    sentence = re.sub(r\"'s\\b\",\"\", sentence) # 소유격 제거. Ex) roland's -> roland\n",
    "    sentence = re.sub(\"[^a-zA-Z]\", \" \", sentence) # 영어 외 문자(숫자, 특수문자 등) 공백으로 변환\n",
    "    sentence = re.sub('[m]{2,}', 'mm', sentence) # m이 3개 이상이면 2개로 변경. Ex) ummmmmmm yeah -> umm yeah\n",
    "    \n",
    "    # 불용어 제거 (Text)\n",
    "    if remove_stopwords:\n",
    "        tokens = ' '.join(word for word in sentence.split() if not word in stopwords.words('english') if len(word) > 1)\n",
    "    # 불용어 미제거 (Summary)\n",
    "    else:\n",
    "        tokens = ' '.join(word for word in sentence.split() if len(word) > 1)\n",
    "    return tokens"
   ],
   "id": "29c7393c6f58211f",
   "outputs": [],
   "execution_count": 25
  },
  {
   "metadata": {},
   "cell_type": "markdown",
   "source": "",
   "id": "5cd76e291c09b6a5"
  },
  {
   "metadata": {
    "ExecuteTime": {
     "end_time": "2024-06-14T02:43:12.265595Z",
     "start_time": "2024-06-14T02:43:12.157028Z"
    }
   },
   "cell_type": "code",
   "source": [
    "print('headlines 열에서 중복을 배제한 유일한 샘플의 수 :', data['headlines'].nunique())\n",
    "print('text 열에서 중복을 배제한 유일한 샘플의 수 :', data['text'].nunique())"
   ],
   "id": "743d976747ca11d3",
   "outputs": [
    {
     "name": "stdout",
     "output_type": "stream",
     "text": [
      "headlines 열에서 중복을 배제한 유일한 샘플의 수 : 98262\n",
      "text 열에서 중복을 배제한 유일한 샘플의 수 : 98360\n"
     ]
    }
   ],
   "execution_count": 26
  },
  {
   "metadata": {
    "ExecuteTime": {
     "end_time": "2024-06-14T02:43:12.281101Z",
     "start_time": "2024-06-14T02:43:12.266597Z"
    }
   },
   "cell_type": "code",
   "source": [
    "# inplace=True 를 설정하면 DataFrame 타입 값을 return 하지 않고 data 내부를 직접적으로 바꿉니다\n",
    "data.drop_duplicates(subset = ['text'], inplace=True)\n",
    "print('전체 샘플수 :', (len(data)))"
   ],
   "id": "86bea5f08ee805d6",
   "outputs": [
    {
     "name": "stdout",
     "output_type": "stream",
     "text": [
      "전체 샘플수 : 98360\n"
     ]
    }
   ],
   "execution_count": 27
  },
  {
   "metadata": {
    "ExecuteTime": {
     "end_time": "2024-06-14T02:44:36.328821Z",
     "start_time": "2024-06-14T02:44:36.314583Z"
    }
   },
   "cell_type": "code",
   "source": "print(data.isnull().sum())",
   "id": "ed5251b69ef6d60a",
   "outputs": [
    {
     "name": "stdout",
     "output_type": "stream",
     "text": [
      "headlines    0\n",
      "text         0\n",
      "dtype: int64\n"
     ]
    }
   ],
   "execution_count": 28
  },
  {
   "metadata": {
    "ExecuteTime": {
     "end_time": "2024-06-14T02:55:56.573693Z",
     "start_time": "2024-06-14T02:46:20.810182Z"
    }
   },
   "cell_type": "code",
   "source": [
    "\n",
    "clean_text = []\n",
    "\n",
    "# [[YOUR CODE]]\n",
    "for text in data['text']:\n",
    "    processed_text = preprocess_sentence(text)\n",
    "    clean_text.append(processed_text)\n",
    "\n",
    "print(len(data['text']))\n",
    "print(len(clean_text))\n",
    "\n",
    "# 전처리 후 출력\n",
    "print(\"Text 전처리 후 결과: \", clean_text[:5])"
   ],
   "id": "79cec1297cc30395",
   "outputs": [
    {
     "name": "stdout",
     "output_type": "stream",
     "text": [
      "98360\n",
      "98360\n",
      "Text 전처리 후 결과:  ['saurav kant alumnus upgrad iiit pg program machine learning artificial intelligence sr systems engineer infosys almost years work experience program upgrad degree career support helped transition data scientist tech mahindra salary hike upgrad online power learning powered lakh careers', 'kunal shah credit card bill payment platform cred gave users chance win free food swiggy one year pranav kaushik delhi techie bagged reward spending cred coins users get one cred coin per rupee bill paid used avail rewards brands like ixigo bookmyshow ubereats cult fit', 'new zealand defeated india wickets fourth odi hamilton thursday win first match five match odi series india lost international match rohit sharma captaincy consecutive victories dating back march match witnessed india getting seventh lowest total odi cricket history', 'aegon life iterm insurance plan customers enjoy tax benefits premiums paid save taxes plan provides life cover age years also customers options insure critical illnesses disability accidental death benefit rider life cover age years', 'speaking sexual harassment allegations rajkumar hirani sonam kapoor said known hirani many years true metoo movement get derailed metoo movement always believe woman case need reserve judgment added hirani accused assistant worked sanju']\n"
     ]
    }
   ],
   "execution_count": 30
  },
  {
   "metadata": {
    "ExecuteTime": {
     "end_time": "2024-06-14T02:58:24.866092Z",
     "start_time": "2024-06-14T02:58:19.389683Z"
    }
   },
   "cell_type": "code",
   "source": [
    "# 전체 Summary 데이터에 대한 전처리 : 5분 이상 시간이 걸릴 수 있습니다. \n",
    "clean_headline = []\n",
    "\n",
    "# [[YOUR CODE]]\n",
    "for headline in data['headlines']:\n",
    "    processed_headline = preprocess_sentence(headline, False)\n",
    "    clean_headline.append(processed_headline)\n",
    "\n",
    "print(\"Summary 전처리 후 결과: \", clean_headline[:5])"
   ],
   "id": "744eb7665491b2c",
   "outputs": [
    {
     "name": "stderr",
     "output_type": "stream",
     "text": [
      "C:\\Users\\square\\AppData\\Local\\Temp\\ipykernel_63432\\1188584658.py:8: MarkupResemblesLocatorWarning: The input looks more like a filename than markup. You may want to open this file and pass the filehandle into Beautiful Soup.\n",
      "  sentence = BeautifulSoup(sentence, \"lxml\").text # <br />, <a href = ...> 등의 html 태그 제거\n"
     ]
    },
    {
     "name": "stdout",
     "output_type": "stream",
     "text": [
      "Summary 전처리 후 결과:  ['upgrad learner switches to career in ml al with salary hike', 'delhi techie wins free food from swiggy for one year on cred', 'new zealand end rohit sharma led india match winning streak', 'aegon life iterm insurance plan helps customers save tax', 'have known hirani for yrs what if metoo claims are not true sonam']\n"
     ]
    }
   ],
   "execution_count": 31
  },
  {
   "metadata": {
    "ExecuteTime": {
     "end_time": "2024-06-14T02:59:38.403475Z",
     "start_time": "2024-06-14T02:59:38.353600Z"
    }
   },
   "cell_type": "code",
   "source": [
    "import numpy as np\n",
    "\n",
    "data['Text'] = clean_text\n",
    "data['headlines'] = clean_headline\n",
    "\n",
    "# 빈 값을 Null 값으로 변환\n",
    "data.replace('', np.nan, inplace=True)\n",
    "print('=3')"
   ],
   "id": "8cfc7121529ca777",
   "outputs": [
    {
     "name": "stdout",
     "output_type": "stream",
     "text": [
      "=3\n"
     ]
    }
   ],
   "execution_count": 32
  },
  {
   "metadata": {
    "ExecuteTime": {
     "end_time": "2024-06-14T02:59:51.304538Z",
     "start_time": "2024-06-14T02:59:51.277927Z"
    }
   },
   "cell_type": "code",
   "source": "data.isnull().sum()",
   "id": "d4b70192fe5989cd",
   "outputs": [
    {
     "data": {
      "text/plain": [
       "headlines    0\n",
       "text         0\n",
       "Text         0\n",
       "dtype: int64"
      ]
     },
     "execution_count": 33,
     "metadata": {},
     "output_type": "execute_result"
    }
   ],
   "execution_count": 33
  },
  {
   "metadata": {
    "ExecuteTime": {
     "end_time": "2024-06-14T03:00:51.234333Z",
     "start_time": "2024-06-14T03:00:49.644231Z"
    }
   },
   "cell_type": "code",
   "source": [
    "# 길이 분포 출력\n",
    "import matplotlib.pyplot as plt\n",
    "\n",
    "text_len = [len(s.split()) for s in data['text']]\n",
    "headline_len = [len(s.split()) for s in data['headlines']]\n",
    "\n",
    "print('텍스트의 최소 길이 : {}'.format(np.min(text_len)))\n",
    "print('텍스트의 최대 길이 : {}'.format(np.max(text_len)))\n",
    "print('텍스트의 평균 길이 : {}'.format(np.mean(text_len)))\n",
    "print('요약의 최소 길이 : {}'.format(np.min(headline_len)))\n",
    "print('요약의 최대 길이 : {}'.format(np.max(headline_len)))\n",
    "print('요약의 평균 길이 : {}'.format(np.mean(headline_len)))\n",
    "\n",
    "plt.subplot(1,2,1)\n",
    "plt.boxplot(text_len)\n",
    "plt.title('Text')\n",
    "plt.subplot(1,2,2)\n",
    "plt.boxplot(headline_len)\n",
    "plt.title('Summary')\n",
    "plt.tight_layout()\n",
    "plt.show()\n",
    "\n",
    "plt.title('Text')\n",
    "plt.hist(text_len, bins = 40)\n",
    "plt.xlabel('length of samples')\n",
    "plt.ylabel('number of samples')\n",
    "plt.show()\n",
    "\n",
    "plt.title('Summary')\n",
    "plt.hist(headline_len, bins = 40)\n",
    "plt.xlabel('length of samples')\n",
    "plt.ylabel('number of samples')\n",
    "plt.show()"
   ],
   "id": "a16cec8f00a957cc",
   "outputs": [
    {
     "name": "stdout",
     "output_type": "stream",
     "text": [
      "텍스트의 최소 길이 : 1\n",
      "텍스트의 최대 길이 : 91\n",
      "텍스트의 평균 길이 : 58.23813542090281\n",
      "요약의 최소 길이 : 1\n",
      "요약의 최대 길이 : 16\n",
      "요약의 평균 길이 : 9.299532330215534\n"
     ]
    },
    {
     "data": {
      "text/plain": [
       "<Figure size 640x480 with 2 Axes>"
      ],
      "image/png": "[encoded data removed]"
     },
     "metadata": {},
     "output_type": "display_data"
    },
    {
     "data": {
      "text/plain": [
       "<Figure size 640x480 with 1 Axes>"
      ],
      "image/png": "[encoded data removed]"
     },
     "metadata": {},
     "output_type": "display_data"
    },
    {
     "data": {
      "text/plain": [
       "<Figure size 640x480 with 1 Axes>"
      ],
      "image/png": "[encoded data removed]"
     },
     "metadata": {},
     "output_type": "display_data"
    }
   ],
   "execution_count": 34
  },
  {
   "metadata": {
    "ExecuteTime": {
     "end_time": "2024-06-14T03:04:13.920779Z",
     "start_time": "2024-06-14T03:04:13.909762Z"
    }
   },
   "cell_type": "code",
   "source": [
    "text_max_len = 70\n",
    "headline_max_len = 16"
   ],
   "id": "4490e8bfa824d029",
   "outputs": [],
   "execution_count": 36
  },
  {
   "metadata": {
    "ExecuteTime": {
     "end_time": "2024-06-14T03:04:18.251557Z",
     "start_time": "2024-06-14T03:04:18.240967Z"
    }
   },
   "cell_type": "code",
   "source": [
    "def below_threshold_len(max_len, nested_list):\n",
    "  cnt = 0\n",
    "  for s in nested_list:\n",
    "    if(len(s.split()) <= max_len):\n",
    "        cnt = cnt + 1\n",
    "  print('전체 샘플 중 길이가 %s 이하인 샘플의 비율: %s'%(max_len, (cnt / len(nested_list))))"
   ],
   "id": "6f5c82c0b5592bed",
   "outputs": [],
   "execution_count": 37
  },
  {
   "metadata": {
    "ExecuteTime": {
     "end_time": "2024-06-14T03:04:52.138771Z",
     "start_time": "2024-06-14T03:04:51.908372Z"
    }
   },
   "cell_type": "code",
   "source": [
    "below_threshold_len(text_max_len, data['text'])\n",
    "below_threshold_len(headline_max_len,  data['headlines'])"
   ],
   "id": "1e4d96008dab0177",
   "outputs": [
    {
     "name": "stdout",
     "output_type": "stream",
     "text": [
      "전체 샘플 중 길이가 70 이하인 샘플의 비율: 0.9999898332655551\n",
      "전체 샘플 중 길이가 16 이하인 샘플의 비율: 1.0\n"
     ]
    }
   ],
   "execution_count": 39
  },
  {
   "metadata": {
    "ExecuteTime": {
     "end_time": "2024-06-14T03:05:44.015918Z",
     "start_time": "2024-06-14T03:05:43.780680Z"
    }
   },
   "cell_type": "code",
   "source": [
    "# [[YOUR CODE]]\n",
    "data = data[\n",
    "    data['text'].apply(lambda x: len(x.split()) <= text_max_len) &\n",
    "    data['headlines'].apply(lambda x: len(x.split()) <= headline_max_len)\n",
    "]\n",
    "\n",
    "print('전체 샘플수 :', (len(data)))"
   ],
   "id": "279b4cf6b88b009c",
   "outputs": [
    {
     "name": "stdout",
     "output_type": "stream",
     "text": [
      "전체 샘플수 : 98359\n"
     ]
    }
   ],
   "execution_count": 40
  },
  {
   "metadata": {
    "ExecuteTime": {
     "end_time": "2024-06-14T03:06:22.098617Z",
     "start_time": "2024-06-14T03:06:22.060474Z"
    }
   },
   "cell_type": "code",
   "source": [
    "# 요약 데이터에는 시작 토큰과 종료 토큰을 추가한다.\n",
    "data['decoder_input'] = data['headlines'].apply(lambda x : 'sostoken '+ x)\n",
    "data['decoder_target'] = data['headlines'].apply(lambda x : x + ' eostoken')\n",
    "data.head()"
   ],
   "id": "72ad17b0c142602c",
   "outputs": [
    {
     "name": "stderr",
     "output_type": "stream",
     "text": [
      "C:\\Users\\square\\AppData\\Local\\Temp\\ipykernel_63432\\872040972.py:2: SettingWithCopyWarning: \n",
      "A value is trying to be set on a copy of a slice from a DataFrame.\n",
      "Try using .loc[row_indexer,col_indexer] = value instead\n",
      "\n",
      "See the caveats in the documentation: https://pandas.pydata.org/pandas-docs/stable/user_guide/indexing.html#returning-a-view-versus-a-copy\n",
      "  data['decoder_input'] = data['headlines'].apply(lambda x : 'sostoken '+ x)\n",
      "C:\\Users\\square\\AppData\\Local\\Temp\\ipykernel_63432\\872040972.py:3: SettingWithCopyWarning: \n",
      "A value is trying to be set on a copy of a slice from a DataFrame.\n",
      "Try using .loc[row_indexer,col_indexer] = value instead\n",
      "\n",
      "See the caveats in the documentation: https://pandas.pydata.org/pandas-docs/stable/user_guide/indexing.html#returning-a-view-versus-a-copy\n",
      "  data['decoder_target'] = data['headlines'].apply(lambda x : x + ' eostoken')\n"
     ]
    },
    {
     "data": {
      "text/plain": [
       "                                           headlines  \\\n",
       "0  upgrad learner switches to career in ml al wit...   \n",
       "1  delhi techie wins free food from swiggy for on...   \n",
       "2  new zealand end rohit sharma led india match w...   \n",
       "3  aegon life iterm insurance plan helps customer...   \n",
       "4  have known hirani for yrs what if metoo claims...   \n",
       "\n",
       "                                                text  \\\n",
       "0  Saurav Kant, an alumnus of upGrad and IIIT-B's...   \n",
       "1  Kunal Shah's credit card bill payment platform...   \n",
       "2  New Zealand defeated India by 8 wickets in the...   \n",
       "3  With Aegon Life iTerm Insurance plan, customer...   \n",
       "4  Speaking about the sexual harassment allegatio...   \n",
       "\n",
       "                                                Text  \\\n",
       "0  saurav kant alumnus upgrad iiit pg program mac...   \n",
       "1  kunal shah credit card bill payment platform c...   \n",
       "2  new zealand defeated india wickets fourth odi ...   \n",
       "3  aegon life iterm insurance plan customers enjo...   \n",
       "4  speaking sexual harassment allegations rajkuma...   \n",
       "\n",
       "                                       decoder_input  \\\n",
       "0  sostoken upgrad learner switches to career in ...   \n",
       "1  sostoken delhi techie wins free food from swig...   \n",
       "2  sostoken new zealand end rohit sharma led indi...   \n",
       "3  sostoken aegon life iterm insurance plan helps...   \n",
       "4  sostoken have known hirani for yrs what if met...   \n",
       "\n",
       "                                      decoder_target  \n",
       "0  upgrad learner switches to career in ml al wit...  \n",
       "1  delhi techie wins free food from swiggy for on...  \n",
       "2  new zealand end rohit sharma led india match w...  \n",
       "3  aegon life iterm insurance plan helps customer...  \n",
       "4  have known hirani for yrs what if metoo claims...  "
      ],
      "text/html": [
       "<div>\n",
       "<style scoped>\n",
       "    .dataframe tbody tr th:only-of-type {\n",
       "        vertical-align: middle;\n",
       "    }\n",
       "\n",
       "    .dataframe tbody tr th {\n",
       "        vertical-align: top;\n",
       "    }\n",
       "\n",
       "    .dataframe thead th {\n",
       "        text-align: right;\n",
       "    }\n",
       "</style>\n",
       "<table border=\"1\" class=\"dataframe\">\n",
       "  <thead>\n",
       "    <tr style=\"text-align: right;\">\n",
       "      <th></th>\n",
       "      <th>headlines</th>\n",
       "      <th>text</th>\n",
       "      <th>Text</th>\n",
       "      <th>decoder_input</th>\n",
       "      <th>decoder_target</th>\n",
       "    </tr>\n",
       "  </thead>\n",
       "  <tbody>\n",
       "    <tr>\n",
       "      <th>0</th>\n",
       "      <td>upgrad learner switches to career in ml al wit...</td>\n",
       "      <td>Saurav Kant, an alumnus of upGrad and IIIT-B's...</td>\n",
       "      <td>saurav kant alumnus upgrad iiit pg program mac...</td>\n",
       "      <td>sostoken upgrad learner switches to career in ...</td>\n",
       "      <td>upgrad learner switches to career in ml al wit...</td>\n",
       "    </tr>\n",
       "    <tr>\n",
       "      <th>1</th>\n",
       "      <td>delhi techie wins free food from swiggy for on...</td>\n",
       "      <td>Kunal Shah's credit card bill payment platform...</td>\n",
       "      <td>kunal shah credit card bill payment platform c...</td>\n",
       "      <td>sostoken delhi techie wins free food from swig...</td>\n",
       "      <td>delhi techie wins free food from swiggy for on...</td>\n",
       "    </tr>\n",
       "    <tr>\n",
       "      <th>2</th>\n",
       "      <td>new zealand end rohit sharma led india match w...</td>\n",
       "      <td>New Zealand defeated India by 8 wickets in the...</td>\n",
       "      <td>new zealand defeated india wickets fourth odi ...</td>\n",
       "      <td>sostoken new zealand end rohit sharma led indi...</td>\n",
       "      <td>new zealand end rohit sharma led india match w...</td>\n",
       "    </tr>\n",
       "    <tr>\n",
       "      <th>3</th>\n",
       "      <td>aegon life iterm insurance plan helps customer...</td>\n",
       "      <td>With Aegon Life iTerm Insurance plan, customer...</td>\n",
       "      <td>aegon life iterm insurance plan customers enjo...</td>\n",
       "      <td>sostoken aegon life iterm insurance plan helps...</td>\n",
       "      <td>aegon life iterm insurance plan helps customer...</td>\n",
       "    </tr>\n",
       "    <tr>\n",
       "      <th>4</th>\n",
       "      <td>have known hirani for yrs what if metoo claims...</td>\n",
       "      <td>Speaking about the sexual harassment allegatio...</td>\n",
       "      <td>speaking sexual harassment allegations rajkuma...</td>\n",
       "      <td>sostoken have known hirani for yrs what if met...</td>\n",
       "      <td>have known hirani for yrs what if metoo claims...</td>\n",
       "    </tr>\n",
       "  </tbody>\n",
       "</table>\n",
       "</div>"
      ]
     },
     "execution_count": 42,
     "metadata": {},
     "output_type": "execute_result"
    }
   ],
   "execution_count": 42
  },
  {
   "metadata": {
    "ExecuteTime": {
     "end_time": "2024-06-14T03:08:23.602827Z",
     "start_time": "2024-06-14T03:08:23.593001Z"
    }
   },
   "cell_type": "code",
   "source": [
    "encoder_input = np.array(data['text']) # 인코더의 입력\n",
    "decoder_input = np.array(data['decoder_input']) # 디코더의 입력\n",
    "decoder_target = np.array(data['decoder_target']) # 디코더의 레이블"
   ],
   "id": "3e64285d39aa581d",
   "outputs": [],
   "execution_count": 44
  },
  {
   "metadata": {
    "ExecuteTime": {
     "end_time": "2024-06-14T03:08:40.465382Z",
     "start_time": "2024-06-14T03:08:40.448999Z"
    }
   },
   "cell_type": "code",
   "source": [
    "indices = np.arange(encoder_input.shape[0])\n",
    "np.random.shuffle(indices)\n",
    "print(indices)"
   ],
   "id": "a64168e28d74bc11",
   "outputs": [
    {
     "name": "stdout",
     "output_type": "stream",
     "text": [
      "[54815 67125 56220 ... 90926 80793  3570]\n"
     ]
    }
   ],
   "execution_count": 45
  },
  {
   "metadata": {
    "ExecuteTime": {
     "end_time": "2024-06-14T03:08:54.331648Z",
     "start_time": "2024-06-14T03:08:54.318646Z"
    }
   },
   "cell_type": "code",
   "source": [
    "encoder_input = encoder_input[indices]\n",
    "decoder_input = decoder_input[indices]\n",
    "decoder_target = decoder_target[indices]"
   ],
   "id": "705aee0debd2e5c1",
   "outputs": [],
   "execution_count": 46
  },
  {
   "metadata": {
    "ExecuteTime": {
     "end_time": "2024-06-14T03:09:04.205956Z",
     "start_time": "2024-06-14T03:09:04.191549Z"
    }
   },
   "cell_type": "code",
   "source": [
    "n_of_val = int(len(encoder_input)*0.2)\n",
    "print('테스트 데이터의 수 :', n_of_val)"
   ],
   "id": "e5f03ec7fae96c99",
   "outputs": [
    {
     "name": "stdout",
     "output_type": "stream",
     "text": [
      "테스트 데이터의 수 : 19671\n"
     ]
    }
   ],
   "execution_count": 47
  },
  {
   "metadata": {
    "ExecuteTime": {
     "end_time": "2024-06-14T03:09:15.280223Z",
     "start_time": "2024-06-14T03:09:15.272562Z"
    }
   },
   "cell_type": "code",
   "source": [
    "encoder_input_train = encoder_input[:-n_of_val]\n",
    "decoder_input_train = decoder_input[:-n_of_val]\n",
    "decoder_target_train = decoder_target[:-n_of_val]\n",
    "\n",
    "encoder_input_test = encoder_input[-n_of_val:]\n",
    "decoder_input_test = decoder_input[-n_of_val:]\n",
    "decoder_target_test = decoder_target[-n_of_val:]\n",
    "\n",
    "print('훈련 데이터의 개수 :', len(encoder_input_train))\n",
    "print('훈련 레이블의 개수 :', len(decoder_input_train))\n",
    "print('테스트 데이터의 개수 :', len(encoder_input_test))\n",
    "print('테스트 레이블의 개수 :', len(decoder_input_test))"
   ],
   "id": "42513ec42920dd4b",
   "outputs": [
    {
     "name": "stdout",
     "output_type": "stream",
     "text": [
      "훈련 데이터의 개수 : 78688\n",
      "훈련 레이블의 개수 : 78688\n",
      "테스트 데이터의 개수 : 19671\n",
      "테스트 레이블의 개수 : 19671\n"
     ]
    }
   ],
   "execution_count": 48
  },
  {
   "metadata": {
    "ExecuteTime": {
     "end_time": "2024-06-14T03:10:10.894947Z",
     "start_time": "2024-06-14T03:10:09.024121Z"
    }
   },
   "cell_type": "code",
   "source": [
    "from keras.preprocessing.text import Tokenizer\n",
    "\n",
    "src_tokenizer = Tokenizer() # 토크나이저 정의\n",
    "src_tokenizer.fit_on_texts(encoder_input_train) # 입력된 데이터로부터 단어 집합 생성"
   ],
   "id": "6ecd4fed608d0e98",
   "outputs": [],
   "execution_count": 49
  },
  {
   "metadata": {
    "ExecuteTime": {
     "end_time": "2024-06-14T03:10:25.892147Z",
     "start_time": "2024-06-14T03:10:25.852312Z"
    }
   },
   "cell_type": "code",
   "source": [
    "threshold = 7\n",
    "total_cnt = len(src_tokenizer.word_index) # 단어의 수\n",
    "rare_cnt = 0 # 등장 빈도수가 threshold보다 작은 단어의 개수를 카운트\n",
    "total_freq = 0 # 훈련 데이터의 전체 단어 빈도수 총 합\n",
    "rare_freq = 0 # 등장 빈도수가 threshold보다 작은 단어의 등장 빈도수의 총 합\n",
    "\n",
    "# 단어와 빈도수의 쌍(pair)을 key와 value로 받는다.\n",
    "for key, value in src_tokenizer.word_counts.items():\n",
    "    total_freq = total_freq + value\n",
    "\n",
    "    # 단어의 등장 빈도수가 threshold보다 작으면\n",
    "    if(value < threshold):\n",
    "        rare_cnt = rare_cnt + 1\n",
    "        rare_freq = rare_freq + value\n",
    "\n",
    "print('단어 집합(vocabulary)의 크기 :', total_cnt)\n",
    "print('등장 빈도가 %s번 이하인 희귀 단어의 수: %s'%(threshold - 1, rare_cnt))\n",
    "print('단어 집합에서 희귀 단어를 제외시킬 경우의 단어 집합의 크기 %s'%(total_cnt - rare_cnt))\n",
    "print(\"단어 집합에서 희귀 단어의 비율:\", (rare_cnt / total_cnt)*100)\n",
    "print(\"전체 등장 빈도에서 희귀 단어 등장 빈도 비율:\", (rare_freq / total_freq)*100)"
   ],
   "id": "6728bc538ce45652",
   "outputs": [
    {
     "name": "stdout",
     "output_type": "stream",
     "text": [
      "단어 집합(vocabulary)의 크기 : 91176\n",
      "등장 빈도가 6번 이하인 희귀 단어의 수: 66431\n",
      "단어 집합에서 희귀 단어를 제외시킬 경우의 단어 집합의 크기 24745\n",
      "단어 집합에서 희귀 단어의 비율: 72.86018250416775\n",
      "전체 등장 빈도에서 희귀 단어 등장 빈도 비율: 2.7265600207468172\n"
     ]
    }
   ],
   "execution_count": 50
  },
  {
   "metadata": {
    "ExecuteTime": {
     "end_time": "2024-06-14T03:10:52.885762Z",
     "start_time": "2024-06-14T03:10:50.984114Z"
    }
   },
   "cell_type": "code",
   "source": [
    "src_vocab = 8000\n",
    "src_tokenizer = Tokenizer(num_words=src_vocab) # 단어 집합의 크기를 8,000으로 제한\n",
    "src_tokenizer.fit_on_texts(encoder_input_train) # 단어 집합 재생성"
   ],
   "id": "2274570f28fefdc4",
   "outputs": [],
   "execution_count": 51
  },
  {
   "metadata": {
    "ExecuteTime": {
     "end_time": "2024-06-14T03:11:05.561027Z",
     "start_time": "2024-06-14T03:11:03.878322Z"
    }
   },
   "cell_type": "code",
   "source": [
    "# 텍스트 시퀀스를 정수 시퀀스로 변환\n",
    "encoder_input_train = src_tokenizer.texts_to_sequences(encoder_input_train) \n",
    "encoder_input_test = src_tokenizer.texts_to_sequences(encoder_input_test)\n",
    "\n",
    "# 잘 진행되었는지 샘플 출력\n",
    "print(encoder_input_train[:3])"
   ],
   "id": "f98e2e59d51a0cd5",
   "outputs": [
    {
     "name": "stdout",
     "output_type": "stream",
     "text": [
      "[[3, 2302, 20, 1, 186, 790, 2, 1, 2970, 5, 921, 6512, 20, 1, 1987, 4, 2703, 2405, 6971, 7, 3605, 1, 28, 5375, 1928, 13, 141, 12, 1531, 15, 49, 156, 3, 2302, 3757, 3, 1056, 740, 4, 472, 6, 1566, 2, 180, 1, 921, 6512, 2970, 133, 42, 12, 155], [116, 2, 85, 112, 1546, 169, 6, 435, 517, 351, 23, 2091, 658, 7, 3, 2336, 510, 3802, 299, 1, 299, 13, 10, 2, 25, 9, 1, 4738, 5, 268, 61, 7609, 85, 29, 11, 7, 1, 299, 1546, 135, 517, 2, 499, 62, 1476, 14, 50, 17, 3106, 1695, 1578, 371, 6, 62, 11, 14, 594], [3, 186, 5, 6317, 6, 3, 3002, 3624, 7, 153, 34, 2193, 65, 15, 1483, 7061, 2873, 2217, 9, 183, 849, 5, 2944, 2, 4, 705, 173, 85, 10, 46, 1, 186, 5, 129, 540, 51, 8, 33, 1531, 9, 3, 147, 8, 40, 33, 527, 47, 3123, 407, 9, 3387, 45, 906]]\n"
     ]
    }
   ],
   "execution_count": 52
  },
  {
   "metadata": {
    "ExecuteTime": {
     "end_time": "2024-06-14T03:11:34.606089Z",
     "start_time": "2024-06-14T03:11:32.338868Z"
    }
   },
   "cell_type": "code",
   "source": [
    "tar_vocab = 2000\n",
    "tar_tokenizer = Tokenizer(num_words=tar_vocab) \n",
    "tar_tokenizer.fit_on_texts(decoder_input_train)\n",
    "tar_tokenizer.fit_on_texts(decoder_target_train)\n",
    "\n",
    "# 텍스트 시퀀스를 정수 시퀀스로 변환\n",
    "decoder_input_train = tar_tokenizer.texts_to_sequences(decoder_input_train) \n",
    "decoder_target_train = tar_tokenizer.texts_to_sequences(decoder_target_train)\n",
    "decoder_input_test = tar_tokenizer.texts_to_sequences(decoder_input_test)\n",
    "decoder_target_test = tar_tokenizer.texts_to_sequences(decoder_target_test)\n",
    "\n",
    "# 잘 변환되었는지 확인\n",
    "print('input')\n",
    "print('input ',decoder_input_train[:5])\n",
    "print('target')\n",
    "print('decoder ',decoder_target_train[:5])"
   ],
   "id": "b6382807138e0e0",
   "outputs": [
    {
     "name": "stdout",
     "output_type": "stream",
     "text": [
      "input\n",
      "input  [[1, 1737, 1364, 3, 332, 4], [1, 595, 447, 3, 708, 7, 305, 200, 62], [1, 1951, 1365, 25, 15, 764], [1, 13, 480, 7, 411, 4, 553, 285], [1, 4, 281, 4, 19, 237, 182, 15]]\n",
      "target\n",
      "decoder  [[1737, 1364, 3, 332, 4, 2], [595, 447, 3, 708, 7, 305, 200, 62, 2], [1951, 1365, 25, 15, 764, 2], [13, 480, 7, 411, 4, 553, 285, 2], [4, 281, 4, 19, 237, 182, 15, 2]]\n"
     ]
    }
   ],
   "execution_count": 54
  },
  {
   "metadata": {
    "ExecuteTime": {
     "end_time": "2024-06-14T03:11:48.104211Z",
     "start_time": "2024-06-14T03:11:48.050351Z"
    }
   },
   "cell_type": "code",
   "source": [
    "drop_train = [index for index, sentence in enumerate(decoder_input_train) if len(sentence) == 1]\n",
    "drop_test = [index for index, sentence in enumerate(decoder_input_test) if len(sentence) == 1]\n",
    "\n",
    "print('삭제할 훈련 데이터의 개수 :', len(drop_train))\n",
    "print('삭제할 테스트 데이터의 개수 :', len(drop_test))\n",
    "\n",
    "encoder_input_train = [sentence for index, sentence in enumerate(encoder_input_train) if index not in drop_train]\n",
    "decoder_input_train = [sentence for index, sentence in enumerate(decoder_input_train) if index not in drop_train]\n",
    "decoder_target_train = [sentence for index, sentence in enumerate(decoder_target_train) if index not in drop_train]\n",
    "\n",
    "encoder_input_test = [sentence for index, sentence in enumerate(encoder_input_test) if index not in drop_test]\n",
    "decoder_input_test = [sentence for index, sentence in enumerate(decoder_input_test) if index not in drop_test]\n",
    "decoder_target_test = [sentence for index, sentence in enumerate(decoder_target_test) if index not in drop_test]\n",
    "\n",
    "print('훈련 데이터의 개수 :', len(encoder_input_train))\n",
    "print('훈련 레이블의 개수 :', len(decoder_input_train))\n",
    "print('테스트 데이터의 개수 :', len(encoder_input_test))\n",
    "print('테스트 레이블의 개수 :', len(decoder_input_test))"
   ],
   "id": "7ea1ce1b237ab944",
   "outputs": [
    {
     "name": "stdout",
     "output_type": "stream",
     "text": [
      "삭제할 훈련 데이터의 개수 : 14\n",
      "삭제할 테스트 데이터의 개수 : 3\n",
      "훈련 데이터의 개수 : 78674\n",
      "훈련 레이블의 개수 : 78674\n",
      "테스트 데이터의 개수 : 19668\n",
      "테스트 레이블의 개수 : 19668\n"
     ]
    }
   ],
   "execution_count": 55
  },
  {
   "metadata": {
    "ExecuteTime": {
     "end_time": "2024-06-14T03:12:47.623082Z",
     "start_time": "2024-06-14T03:12:47.377759Z"
    }
   },
   "cell_type": "code",
   "source": [
    "from tensorflow.keras.preprocessing.sequence import pad_sequences\n",
    "\n",
    "encoder_input_train = pad_sequences(encoder_input_train, maxlen=text_max_len, padding='post')\n",
    "encoder_input_test = pad_sequences(encoder_input_test, maxlen=text_max_len, padding='post')\n",
    "decoder_input_train = pad_sequences(decoder_input_train, maxlen=headline_max_len, padding='post')\n",
    "decoder_target_train = pad_sequences(decoder_target_train, maxlen=headline_max_len, padding='post')\n",
    "decoder_input_test = pad_sequences(decoder_input_test, maxlen=headline_max_len, padding='post')\n",
    "decoder_target_test = pad_sequences(decoder_target_test, maxlen=headline_max_len, padding='post')"
   ],
   "id": "ba96540f08a07657",
   "outputs": [],
   "execution_count": 58
  },
  {
   "metadata": {
    "ExecuteTime": {
     "end_time": "2024-06-14T03:12:52.667167Z",
     "start_time": "2024-06-14T03:12:51.947274Z"
    }
   },
   "cell_type": "code",
   "source": [
    "from tensorflow.keras.layers import Input, LSTM, Embedding, Dense, Concatenate, TimeDistributed\n",
    "from tensorflow.keras.models import Model\n",
    "from tensorflow.keras.callbacks import EarlyStopping, ModelCheckpoint\n",
    "\n",
    "\n",
    "# 인코더 설계 시작\n",
    "embedding_dim = 128\n",
    "hidden_size = 256\n",
    "\n",
    "# 인코더\n",
    "encoder_inputs = Input(shape=(text_max_len,))\n",
    "\n",
    "# 인코더의 임베딩 층\n",
    "enc_emb = Embedding(src_vocab, embedding_dim)(encoder_inputs)\n",
    "\n",
    "# 인코더의 LSTM 1\n",
    "# encoder_lstm1 = LSTM(hidden_size, return_sequences=True, return_state=True ,dropout = 0.4, recurrent_dropout = 0.4)\n",
    "encoder_lstm1 = LSTM(hidden_size, return_sequences=True, return_state=True ,dropout = 0.4)\n",
    "encoder_output1, state_h1, state_c1 = encoder_lstm1(enc_emb)\n",
    "\n",
    "# 인코더의 LSTM 2\n",
    "# [[YOUR CODE]]\n",
    "encoder_lstm2 = LSTM(hidden_size, return_sequences=True, return_state=True, dropout=0.4)\n",
    "encoder_output2, state_h2, state_c2 = encoder_lstm2(encoder_output1)\n",
    "\n",
    "# 인코더의 LSTM 3\n",
    "# [[YOUR CODE]]\n",
    "encoder_lstm3 = LSTM(hidden_size, return_sequences=True, return_state=True, dropout=0.4)\n",
    "encoder_output3, state_h3, state_c3 = encoder_lstm3(encoder_output2)"
   ],
   "id": "41b46e489a500ac5",
   "outputs": [],
   "execution_count": 59
  },
  {
   "metadata": {
    "ExecuteTime": {
     "end_time": "2024-06-14T03:13:08.817473Z",
     "start_time": "2024-06-14T03:13:08.671382Z"
    }
   },
   "cell_type": "code",
   "source": [
    "# 디코더 설계\n",
    "decoder_inputs = Input(shape=(None,))\n",
    "\n",
    "# 디코더의 임베딩 층\n",
    "dec_emb_layer = Embedding(tar_vocab, embedding_dim)\n",
    "dec_emb = dec_emb_layer(decoder_inputs)\n",
    "\n",
    "# 디코더의 LSTM\n",
    "# decoder_lstm = LSTM(hidden_size, return_sequences=True, return_state=True, dropout=0.4, recurrent_dropout=0.2)\n",
    "decoder_lstm = LSTM(hidden_size, return_sequences=True, return_state=True, dropout=0.4)\n",
    "decoder_outputs, _, _ = decoder_lstm(dec_emb, initial_state=[state_h3, state_c3])"
   ],
   "id": "c6681bd3f1521ad4",
   "outputs": [],
   "execution_count": 60
  },
  {
   "metadata": {
    "ExecuteTime": {
     "end_time": "2024-06-14T03:13:23.434004Z",
     "start_time": "2024-06-14T03:13:23.387925Z"
    }
   },
   "cell_type": "code",
   "source": [
    "# 디코더의 출력층\n",
    "decoder_softmax_layer = Dense(tar_vocab, activation='softmax')\n",
    "decoder_softmax_outputs = decoder_softmax_layer(decoder_outputs) \n",
    "\n",
    "# 모델 정의\n",
    "model = Model([encoder_inputs, decoder_inputs], decoder_softmax_outputs)\n",
    "model.summary()"
   ],
   "id": "a7702bb145d8ccb2",
   "outputs": [
    {
     "name": "stdout",
     "output_type": "stream",
     "text": [
      "Model: \"model\"\n",
      "__________________________________________________________________________________________________\n",
      " Layer (type)                   Output Shape         Param #     Connected to                     \n",
      "==================================================================================================\n",
      " input_1 (InputLayer)           [(None, 70)]         0           []                               \n",
      "                                                                                                  \n",
      " embedding (Embedding)          (None, 70, 128)      1024000     ['input_1[0][0]']                \n",
      "                                                                                                  \n",
      " lstm (LSTM)                    [(None, 70, 256),    394240      ['embedding[0][0]']              \n",
      "                                 (None, 256),                                                     \n",
      "                                 (None, 256)]                                                     \n",
      "                                                                                                  \n",
      " input_2 (InputLayer)           [(None, None)]       0           []                               \n",
      "                                                                                                  \n",
      " lstm_1 (LSTM)                  [(None, 70, 256),    525312      ['lstm[0][0]']                   \n",
      "                                 (None, 256),                                                     \n",
      "                                 (None, 256)]                                                     \n",
      "                                                                                                  \n",
      " embedding_1 (Embedding)        (None, None, 128)    256000      ['input_2[0][0]']                \n",
      "                                                                                                  \n",
      " lstm_2 (LSTM)                  [(None, 70, 256),    525312      ['lstm_1[0][0]']                 \n",
      "                                 (None, 256),                                                     \n",
      "                                 (None, 256)]                                                     \n",
      "                                                                                                  \n",
      " lstm_3 (LSTM)                  [(None, None, 256),  394240      ['embedding_1[0][0]',            \n",
      "                                 (None, 256),                     'lstm_2[0][1]',                 \n",
      "                                 (None, 256)]                     'lstm_2[0][2]']                 \n",
      "                                                                                                  \n",
      " dense (Dense)                  (None, None, 2000)   514000      ['lstm_3[0][0]']                 \n",
      "                                                                                                  \n",
      "==================================================================================================\n",
      "Total params: 3,633,104\n",
      "Trainable params: 3,633,104\n",
      "Non-trainable params: 0\n",
      "__________________________________________________________________________________________________\n"
     ]
    }
   ],
   "execution_count": 61
  },
  {
   "metadata": {
    "ExecuteTime": {
     "end_time": "2024-06-14T03:13:33.369556Z",
     "start_time": "2024-06-14T03:13:33.322721Z"
    }
   },
   "cell_type": "code",
   "source": [
    "from tensorflow.keras.layers import AdditiveAttention\n",
    "\n",
    "# 어텐션 층(어텐션 함수)\n",
    "attn_layer = AdditiveAttention(name='attention_layer')\n",
    "\n",
    "# 인코더와 디코더의 모든 time step의 hidden state를 어텐션 층에 전달하고 결과를 리턴\n",
    "attn_out = attn_layer([decoder_outputs, encoder_output3])\n",
    "\n",
    "\n",
    "# 어텐션의 결과와 디코더의 hidden state들을 연결\n",
    "decoder_concat_input = Concatenate(axis=-1, name='concat_layer')([decoder_outputs, attn_out])\n",
    "\n",
    "# 디코더의 출력층\n",
    "decoder_softmax_layer = Dense(tar_vocab, activation='softmax')\n",
    "decoder_softmax_outputs = decoder_softmax_layer(decoder_concat_input)\n",
    "\n",
    "# 모델 정의\n",
    "model = Model([encoder_inputs, decoder_inputs], decoder_softmax_outputs)\n",
    "model.summary()"
   ],
   "id": "26fbef871ec61f17",
   "outputs": [
    {
     "name": "stdout",
     "output_type": "stream",
     "text": [
      "Model: \"model_1\"\n",
      "__________________________________________________________________________________________________\n",
      " Layer (type)                   Output Shape         Param #     Connected to                     \n",
      "==================================================================================================\n",
      " input_1 (InputLayer)           [(None, 70)]         0           []                               \n",
      "                                                                                                  \n",
      " embedding (Embedding)          (None, 70, 128)      1024000     ['input_1[0][0]']                \n",
      "                                                                                                  \n",
      " lstm (LSTM)                    [(None, 70, 256),    394240      ['embedding[0][0]']              \n",
      "                                 (None, 256),                                                     \n",
      "                                 (None, 256)]                                                     \n",
      "                                                                                                  \n",
      " input_2 (InputLayer)           [(None, None)]       0           []                               \n",
      "                                                                                                  \n",
      " lstm_1 (LSTM)                  [(None, 70, 256),    525312      ['lstm[0][0]']                   \n",
      "                                 (None, 256),                                                     \n",
      "                                 (None, 256)]                                                     \n",
      "                                                                                                  \n",
      " embedding_1 (Embedding)        (None, None, 128)    256000      ['input_2[0][0]']                \n",
      "                                                                                                  \n",
      " lstm_2 (LSTM)                  [(None, 70, 256),    525312      ['lstm_1[0][0]']                 \n",
      "                                 (None, 256),                                                     \n",
      "                                 (None, 256)]                                                     \n",
      "                                                                                                  \n",
      " lstm_3 (LSTM)                  [(None, None, 256),  394240      ['embedding_1[0][0]',            \n",
      "                                 (None, 256),                     'lstm_2[0][1]',                 \n",
      "                                 (None, 256)]                     'lstm_2[0][2]']                 \n",
      "                                                                                                  \n",
      " attention_layer (AdditiveAtten  (None, None, 256)   256         ['lstm_3[0][0]',                 \n",
      " tion)                                                            'lstm_2[0][0]']                 \n",
      "                                                                                                  \n",
      " concat_layer (Concatenate)     (None, None, 512)    0           ['lstm_3[0][0]',                 \n",
      "                                                                  'attention_layer[0][0]']        \n",
      "                                                                                                  \n",
      " dense_1 (Dense)                (None, None, 2000)   1026000     ['concat_layer[0][0]']           \n",
      "                                                                                                  \n",
      "==================================================================================================\n",
      "Total params: 4,145,360\n",
      "Trainable params: 4,145,360\n",
      "Non-trainable params: 0\n",
      "__________________________________________________________________________________________________\n"
     ]
    }
   ],
   "execution_count": 62
  },
  {
   "metadata": {
    "ExecuteTime": {
     "end_time": "2024-06-14T04:48:46.029518Z",
     "start_time": "2024-06-14T03:13:42.401483Z"
    }
   },
   "cell_type": "code",
   "source": [
    "model.compile(optimizer='rmsprop', loss='sparse_categorical_crossentropy')\n",
    "es = EarlyStopping(monitor='val_loss', patience=2, verbose=1)\n",
    "history = model.fit(x=[encoder_input_train, decoder_input_train], y=decoder_target_train, \\\n",
    "          validation_data=([encoder_input_test, decoder_input_test], decoder_target_test), \\\n",
    "          batch_size=256, callbacks=[es], epochs=50)"
   ],
   "id": "58c1b0707c9665c2",
   "outputs": [
    {
     "name": "stdout",
     "output_type": "stream",
     "text": [
      "Epoch 1/50\n",
      "308/308 [==============================] - 209s 662ms/step - loss: 2.9584 - val_loss: 2.7231\n",
      "Epoch 2/50\n",
      "308/308 [==============================] - 204s 664ms/step - loss: 2.5938 - val_loss: 2.4798\n",
      "Epoch 3/50\n",
      "308/308 [==============================] - 204s 662ms/step - loss: 2.3752 - val_loss: 2.3174\n",
      "Epoch 4/50\n",
      "308/308 [==============================] - 203s 659ms/step - loss: 2.2331 - val_loss: 2.2063\n",
      "Epoch 5/50\n",
      "308/308 [==============================] - 203s 658ms/step - loss: 2.1236 - val_loss: 2.1195\n",
      "Epoch 6/50\n",
      "308/308 [==============================] - 203s 659ms/step - loss: 2.0325 - val_loss: 2.0482\n",
      "Epoch 7/50\n",
      "308/308 [==============================] - 205s 665ms/step - loss: 1.9560 - val_loss: 2.0003\n",
      "Epoch 8/50\n",
      "308/308 [==============================] - 205s 665ms/step - loss: 1.8907 - val_loss: 1.9572\n",
      "Epoch 9/50\n",
      "308/308 [==============================] - 206s 670ms/step - loss: 1.8341 - val_loss: 1.9258\n",
      "Epoch 10/50\n",
      "308/308 [==============================] - 207s 672ms/step - loss: 1.7829 - val_loss: 1.8934\n",
      "Epoch 11/50\n",
      "308/308 [==============================] - 205s 667ms/step - loss: 1.7381 - val_loss: 1.8660\n",
      "Epoch 12/50\n",
      "308/308 [==============================] - 206s 668ms/step - loss: 1.6973 - val_loss: 1.8463\n",
      "Epoch 13/50\n",
      "308/308 [==============================] - 206s 670ms/step - loss: 1.6598 - val_loss: 1.8315\n",
      "Epoch 14/50\n",
      "308/308 [==============================] - 205s 665ms/step - loss: 1.6249 - val_loss: 1.8132\n",
      "Epoch 15/50\n",
      "308/308 [==============================] - 205s 665ms/step - loss: 1.5932 - val_loss: 1.8042\n",
      "Epoch 16/50\n",
      "308/308 [==============================] - 204s 662ms/step - loss: 1.5634 - val_loss: 1.7910\n",
      "Epoch 17/50\n",
      "308/308 [==============================] - 200s 649ms/step - loss: 1.5362 - val_loss: 1.7836\n",
      "Epoch 18/50\n",
      "308/308 [==============================] - 201s 654ms/step - loss: 1.5110 - val_loss: 1.7740\n",
      "Epoch 19/50\n",
      "308/308 [==============================] - 201s 654ms/step - loss: 1.4868 - val_loss: 1.7696\n",
      "Epoch 20/50\n",
      "308/308 [==============================] - 201s 653ms/step - loss: 1.4649 - val_loss: 1.7649\n",
      "Epoch 21/50\n",
      "308/308 [==============================] - 203s 661ms/step - loss: 1.4434 - val_loss: 1.7625\n",
      "Epoch 22/50\n",
      "308/308 [==============================] - 203s 660ms/step - loss: 1.4223 - val_loss: 1.7599\n",
      "Epoch 23/50\n",
      "308/308 [==============================] - 202s 655ms/step - loss: 1.4046 - val_loss: 1.7553\n",
      "Epoch 24/50\n",
      "308/308 [==============================] - 203s 660ms/step - loss: 1.3857 - val_loss: 1.7557\n",
      "Epoch 25/50\n",
      "308/308 [==============================] - 202s 654ms/step - loss: 1.3684 - val_loss: 1.7534\n",
      "Epoch 26/50\n",
      "308/308 [==============================] - 204s 661ms/step - loss: 1.3524 - val_loss: 1.7514\n",
      "Epoch 27/50\n",
      "308/308 [==============================] - 202s 655ms/step - loss: 1.3368 - val_loss: 1.7534\n",
      "Epoch 28/50\n",
      "308/308 [==============================] - 202s 657ms/step - loss: 1.3231 - val_loss: 1.7537\n",
      "Epoch 28: early stopping\n"
     ]
    }
   ],
   "execution_count": 63
  },
  {
   "metadata": {},
   "cell_type": "markdown",
   "source": "",
   "id": "f937daa5e241c275"
  },
  {
   "metadata": {
    "ExecuteTime": {
     "end_time": "2024-06-14T05:10:05.579097Z",
     "start_time": "2024-06-14T05:10:05.509224Z"
    }
   },
   "cell_type": "code",
   "source": [
    "plt.plot(history.history['loss'], label='train')\n",
    "plt.plot(history.history['val_loss'], label='test')\n",
    "plt.legend()\n",
    "plt.show()"
   ],
   "id": "5dd4dd47d09204a7",
   "outputs": [
    {
     "data": {
      "text/plain": [
       "<Figure size 640x480 with 1 Axes>"
      ],
      "image/png": "[encoded data removed]"
     },
     "metadata": {},
     "output_type": "display_data"
    }
   ],
   "execution_count": 64
  },
  {
   "metadata": {
    "ExecuteTime": {
     "end_time": "2024-06-14T05:10:45.686587Z",
     "start_time": "2024-06-14T05:10:45.679469Z"
    }
   },
   "cell_type": "code",
   "source": [
    "src_index_to_word = src_tokenizer.index_word # 원문 단어 집합에서 정수 -> 단어를 얻음\n",
    "tar_word_to_index = tar_tokenizer.word_index # 요약 단어 집합에서 단어 -> 정수를 얻음\n",
    "tar_index_to_word = tar_tokenizer.index_word # 요약 단어 집합에서 정수 -> 단어를 얻음"
   ],
   "id": "24070d2bcf366077",
   "outputs": [],
   "execution_count": 65
  },
  {
   "metadata": {
    "ExecuteTime": {
     "end_time": "2024-06-14T05:11:00.219175Z",
     "start_time": "2024-06-14T05:11:00.093094Z"
    }
   },
   "cell_type": "code",
   "source": [
    "# 인코더 설계\n",
    "encoder_model = Model(inputs=encoder_inputs, outputs=[encoder_output3, state_h3, state_c3])\n",
    "\n",
    "# 이전 시점의 상태들을 저장하는 텐서\n",
    "decoder_state_input_h = Input(shape=(hidden_size,))\n",
    "decoder_state_input_c = Input(shape=(hidden_size,))\n",
    "\n",
    "dec_emb2 = dec_emb_layer(decoder_inputs)\n",
    "\n",
    "# 문장의 다음 단어를 예측하기 위해서 초기 상태(initial_state)를 이전 시점의 상태로 사용. 이는 뒤의 함수 decode_sequence()에 구현\n",
    "# 훈련 과정에서와 달리 LSTM의 리턴하는 은닉 상태와 셀 상태인 state_h와 state_c를 버리지 않음.\n",
    "decoder_outputs2, state_h2, state_c2 = decoder_lstm(dec_emb2, initial_state=[decoder_state_input_h, decoder_state_input_c])"
   ],
   "id": "8cdaf0e21ceb7af5",
   "outputs": [],
   "execution_count": 66
  },
  {
   "metadata": {
    "ExecuteTime": {
     "end_time": "2024-06-14T05:11:08.320674Z",
     "start_time": "2024-06-14T05:11:08.283517Z"
    }
   },
   "cell_type": "code",
   "source": [
    "# 어텐션 함수\n",
    "decoder_hidden_state_input = Input(shape=(text_max_len, hidden_size))\n",
    "attn_out_inf = attn_layer([decoder_outputs2, decoder_hidden_state_input])\n",
    "decoder_inf_concat = Concatenate(axis=-1, name='concat')([decoder_outputs2, attn_out_inf])\n",
    "\n",
    "# 디코더의 출력층\n",
    "decoder_outputs2 = decoder_softmax_layer(decoder_inf_concat) \n",
    "\n",
    "# 최종 디코더 모델\n",
    "decoder_model = Model(\n",
    "    [decoder_inputs] + [decoder_hidden_state_input,decoder_state_input_h, decoder_state_input_c],\n",
    "    [decoder_outputs2] + [state_h2, state_c2])"
   ],
   "id": "bc8f58e64a70c0b2",
   "outputs": [],
   "execution_count": 67
  },
  {
   "metadata": {
    "ExecuteTime": {
     "end_time": "2024-06-14T05:19:10.803600Z",
     "start_time": "2024-06-14T05:19:10.788696Z"
    }
   },
   "cell_type": "code",
   "source": [
    "def decode_sequence(input_seq):\n",
    "    # 입력으로부터 인코더의 상태를 얻음\n",
    "    e_out, e_h, e_c = encoder_model.predict(input_seq)\n",
    "\n",
    "     # <SOS>에 해당하는 토큰 생성\n",
    "    target_seq = np.zeros((1,1))\n",
    "    target_seq[0, 0] = tar_word_to_index['sostoken']\n",
    "\n",
    "    stop_condition = False\n",
    "    decoded_sentence = ''\n",
    "    while not stop_condition: # stop_condition이 True가 될 때까지 루프 반복\n",
    "\n",
    "        output_tokens, h, c = decoder_model.predict([target_seq] + [e_out, e_h, e_c])\n",
    "        sampled_token_index = np.argmax(output_tokens[0, -1, :])\n",
    "        sampled_token = tar_index_to_word[sampled_token_index]\n",
    "\n",
    "        if (sampled_token!='eostoken'):\n",
    "            decoded_sentence += ' '+sampled_token\n",
    "\n",
    "        #  <eos>에 도달하거나 최대 길이를 넘으면 중단.\n",
    "        if (sampled_token == 'eostoken'  or len(decoded_sentence.split()) >= (headline_max_len - 1)):\n",
    "            stop_condition = True\n",
    "\n",
    "        # 길이가 1인 타겟 시퀀스를 업데이트\n",
    "        target_seq = np.zeros((1,1))\n",
    "        target_seq[0, 0] = sampled_token_index\n",
    "\n",
    "        # 상태를 업데이트 합니다.\n",
    "        e_h, e_c = h, c\n",
    "\n",
    "    return decoded_sentence"
   ],
   "id": "f8f13b3871ccbe90",
   "outputs": [],
   "execution_count": 77
  },
  {
   "metadata": {
    "ExecuteTime": {
     "end_time": "2024-06-14T05:19:12.711676Z",
     "start_time": "2024-06-14T05:19:12.693162Z"
    }
   },
   "cell_type": "code",
   "source": [
    "# 원문의 정수 시퀀스를 텍스트 시퀀스로 변환\n",
    "def seq2text(input_seq):\n",
    "    temp=''\n",
    "    for i in input_seq:\n",
    "        if (i!=0):\n",
    "            temp = temp + src_index_to_word[i]+' '\n",
    "    return temp\n",
    "\n",
    "# 요약문의 정수 시퀀스를 텍스트 시퀀스로 변환\n",
    "def seq2summary(input_seq):\n",
    "    # [[YOUR CODE]]\n",
    "    temp = ''\n",
    "    for i in input_seq:\n",
    "        if i != 0 and i != tar_index_to_word.get('<sos>') and i != tar_index_to_word.get('<eos>'):\n",
    "            temp += tar_index_to_word[i] + ' '\n",
    "    return temp.strip()"
   ],
   "id": "cf81183eb7cd9f88",
   "outputs": [],
   "execution_count": 78
  },
  {
   "metadata": {
    "ExecuteTime": {
     "end_time": "2024-06-14T05:19:36.132399Z",
     "start_time": "2024-06-14T05:19:13.937855Z"
    }
   },
   "cell_type": "code",
   "source": [
    "for i in range(50, 100):\n",
    "    print(\"원문 :\", seq2text(encoder_input_test[i]))\n",
    "    print(\"실제 요약 :\", seq2summary(decoder_input_test[i]))\n",
    "    print(\"예측 요약 :\", decode_sequence(encoder_input_test[i].reshape(1, text_max_len)))\n",
    "    print(\"\\n\")"
   ],
   "id": "b542c37f55a2628",
   "outputs": [
    {
     "name": "stdout",
     "output_type": "stream",
     "text": [
      "원문 : questioning rss chief mohan remarks on building ram mandir in ayodhya aimim president asaduddin owaisi on monday asked if he was the chief justice of india this comes ahead of the of the final hearing on the ayodhya dispute in the supreme court on december 5 earlier the apex court had recommended an out of court settlement for the dispute \n",
      "실제 요약 : sostoken is rss head india chief justice asks owaisi\n",
      "1/1 [==============================] - 0s 21ms/step\n",
      "1/1 [==============================] - 0s 20ms/step\n",
      "1/1 [==============================] - 0s 18ms/step\n",
      "1/1 [==============================] - 0s 19ms/step\n",
      "1/1 [==============================] - 0s 20ms/step\n",
      "1/1 [==============================] - 0s 18ms/step\n",
      "1/1 [==============================] - 0s 18ms/step\n",
      "1/1 [==============================] - 0s 19ms/step\n",
      "예측 요약 :  rss not to rss chief owaisi\n",
      "\n",
      "\n",
      "원문 : delhi cm arvind kejriwal on monday posted a cartoon on twitter mocking the bjp led centre by comparing the taken by aap with those of the centre the cartoon shows a of various healthcare and education by the delhi government while the centre's work with a plot having a reading development work under progress \n",
      "실제 요약 : sostoken kejriwal shares bjp led centre\n",
      "1/1 [==============================] - 0s 24ms/step\n",
      "1/1 [==============================] - 0s 18ms/step\n",
      "1/1 [==============================] - 0s 18ms/step\n",
      "1/1 [==============================] - 0s 18ms/step\n",
      "1/1 [==============================] - 0s 19ms/step\n",
      "1/1 [==============================] - 0s 18ms/step\n",
      "1/1 [==============================] - 0s 18ms/step\n",
      "예측 요약 :  kejriwal meets bjp govt in\n",
      "\n",
      "\n",
      "원문 : a woman named priya singh paul claiming to be the daughter of late congress politician sanjay gandhi has sent a legal notice against the release of the directorial sarkar before she views the film censor board chief pahlaj nihalani said unless the gandhi her claims we can't act on ms singh's objections to the film \n",
      "실제 요약 : sostoken sanjay gandhi daughter sends notice against\n",
      "1/1 [==============================] - 0s 25ms/step\n",
      "1/1 [==============================] - 0s 20ms/step\n",
      "1/1 [==============================] - 0s 18ms/step\n",
      "1/1 [==============================] - 0s 19ms/step\n",
      "1/1 [==============================] - 0s 19ms/step\n",
      "1/1 [==============================] - 0s 19ms/step\n",
      "1/1 [==============================] - 0s 18ms/step\n",
      "1/1 [==============================] - 0s 19ms/step\n",
      "예측 요약 :  daughter daughter for rape breach against\n",
      "\n",
      "\n",
      "원문 : a forum on wednesday complained of land misuse by the delhi metro rail corporation claiming it out a prime piece of land in west delhi to a property developer by rules denying the allegations the said that the property development activity in the case had been as per rules and regulations \n",
      "실제 요약 : sostoken claims land by delhi metro rail\n",
      "1/1 [==============================] - 0s 23ms/step\n",
      "1/1 [==============================] - 0s 18ms/step\n",
      "1/1 [==============================] - 0s 19ms/step\n",
      "1/1 [==============================] - 0s 19ms/step\n",
      "1/1 [==============================] - 0s 18ms/step\n",
      "1/1 [==============================] - 0s 19ms/step\n",
      "1/1 [==============================] - 0s 18ms/step\n",
      "1/1 [==============================] - 0s 19ms/step\n",
      "예측 요약 :  delhi metro gets on land cases\n",
      "\n",
      "\n",
      "원문 : malaika arora slammed an instagram user who trolled her for a rich man and having fun with the her life now is all about wearing short clothes going to gym or enjoying vacation s the user commented malaika responded you certainly got to get your facts right before t on me when you know nothing about me \n",
      "실제 요약 : sostoken slams user who trolled her for man\n",
      "1/1 [==============================] - 0s 24ms/step\n",
      "1/1 [==============================] - 0s 19ms/step\n",
      "1/1 [==============================] - 0s 18ms/step\n",
      "1/1 [==============================] - 0s 19ms/step\n",
      "1/1 [==============================] - 0s 21ms/step\n",
      "1/1 [==============================] - 0s 19ms/step\n",
      "1/1 [==============================] - 0s 18ms/step\n",
      "1/1 [==============================] - 0s 18ms/step\n",
      "예측 요약 :  slams twitter user for calling him\n",
      "\n",
      "\n",
      "원문 : according to reports saif ali khan's daughter sara ali khan has signed her second film with actress anushka sharma's production house clean films the film will reportedly be a social drama notably sara will be making her bollywood debut with the abhishek kapoor directorial 'kedarnath' which will also star sushant singh rajput \n",
      "실제 요약 : sostoken sara ali khan nd film to be by anushka reports\n",
      "1/1 [==============================] - 0s 24ms/step\n",
      "1/1 [==============================] - 0s 19ms/step\n",
      "1/1 [==============================] - 0s 17ms/step\n",
      "1/1 [==============================] - 0s 18ms/step\n",
      "1/1 [==============================] - 0s 18ms/step\n",
      "1/1 [==============================] - 0s 18ms/step\n",
      "1/1 [==============================] - 0s 19ms/step\n",
      "1/1 [==============================] - 0s 19ms/step\n",
      "1/1 [==============================] - 0s 16ms/step\n",
      "1/1 [==============================] - 0s 18ms/step\n",
      "예측 요약 :  sara ali khan to star in hindi reports\n",
      "\n",
      "\n",
      "원문 : congress has emerged as the single largest party in rajasthan with 99 seats and its ally party securing one seat in the 200 member state assembly bjp has secured 73 seats as compared to in 2013 state assembly elections meanwhile 41 year old sachin pilot and 67 year old ashok gehlot are said to be congress' candidates for the chief ministerial post \n",
      "실제 요약 : sostoken congress as single largest party in rajasthan with seats\n",
      "1/1 [==============================] - 0s 23ms/step\n",
      "1/1 [==============================] - 0s 18ms/step\n",
      "1/1 [==============================] - 0s 18ms/step\n",
      "1/1 [==============================] - 0s 20ms/step\n",
      "1/1 [==============================] - 0s 19ms/step\n",
      "1/1 [==============================] - 0s 20ms/step\n",
      "1/1 [==============================] - 0s 19ms/step\n",
      "1/1 [==============================] - 0s 19ms/step\n",
      "예측 요약 :  congress congress in mp assembly polls\n",
      "\n",
      "\n",
      "원문 : the islamic state has claimed responsibility for the attack at a shia mosque on friday in afghanistan's capital kabul a suicide bombing followed by killed at least 30 people and left several others injured this comes after isis issued a warning last month saying it would attack shia places of worship in afghanistan \n",
      "실제 요약 : sostoken isis claims for attack\n",
      "1/1 [==============================] - 0s 23ms/step\n",
      "1/1 [==============================] - 0s 18ms/step\n",
      "1/1 [==============================] - 0s 19ms/step\n",
      "1/1 [==============================] - 0s 19ms/step\n",
      "1/1 [==============================] - 0s 19ms/step\n",
      "1/1 [==============================] - 0s 19ms/step\n",
      "1/1 [==============================] - 0s 20ms/step\n",
      "1/1 [==============================] - 0s 17ms/step\n",
      "예측 요약 :  isis claims attack on afghan team\n",
      "\n",
      "\n",
      "원문 : a day after the launch of the 9 satellite prime minister narendra modi on saturday said the launching of the south asia satellite was a dream and a commitment which india has to replying to a user the prime minister further tweeted through science we can transform the lives of the poor and \n",
      "실제 요약 : sostoken south asia satellite india to pm modi\n",
      "1/1 [==============================] - 0s 24ms/step\n",
      "1/1 [==============================] - 0s 19ms/step\n",
      "1/1 [==============================] - 0s 19ms/step\n",
      "1/1 [==============================] - 0s 16ms/step\n",
      "1/1 [==============================] - 0s 18ms/step\n",
      "1/1 [==============================] - 0s 19ms/step\n",
      "예측 요약 :  india is in china\n",
      "\n",
      "\n",
      "원문 : former defence minister george passed away on tuesday in delhi at the age of 88 who also served as the railways minister in former prime minister vp singh's government had been diagnosed with disease his last as a was as a rajya sabha mp between august 2009 and july 2010 \n",
      "실제 요약 : sostoken former defence minister passes away aged\n",
      "1/1 [==============================] - 0s 23ms/step\n",
      "1/1 [==============================] - 0s 19ms/step\n",
      "1/1 [==============================] - 0s 20ms/step\n",
      "1/1 [==============================] - 0s 20ms/step\n",
      "1/1 [==============================] - 0s 18ms/step\n",
      "1/1 [==============================] - 0s 18ms/step\n",
      "1/1 [==============================] - 0s 19ms/step\n",
      "1/1 [==============================] - 0s 20ms/step\n",
      "예측 요약 :  former union minister passes away at\n",
      "\n",
      "\n",
      "원문 : a new trailer of the upcoming film man has been released featuring the marvel character man' the film stars tom in the role of peter also starring michael robert jr and among others the superhero film has been directed by it is scheduled to release on july 7 n \n",
      "실제 요약 : sostoken new trailer of man released\n",
      "1/1 [==============================] - 0s 23ms/step\n",
      "1/1 [==============================] - 0s 20ms/step\n",
      "1/1 [==============================] - 0s 19ms/step\n",
      "1/1 [==============================] - 0s 19ms/step\n",
      "1/1 [==============================] - 0s 18ms/step\n",
      "1/1 [==============================] - 0s 18ms/step\n",
      "예측 요약 :  trailer of man murder\n",
      "\n",
      "\n",
      "원문 : a 101 year old woman confused german chancellor angela merkel with french president emmanuel wife at a world war i event the leaders were with members of public when the woman first hands with macron and then turned to merkel saying you're macron merkel then clarified twice that she was the german chancellor and not wife \n",
      "실제 요약 : sostoken yr old woman german with french prez wife\n",
      "1/1 [==============================] - 0s 23ms/step\n",
      "1/1 [==============================] - 0s 18ms/step\n",
      "1/1 [==============================] - 0s 19ms/step\n",
      "1/1 [==============================] - 0s 19ms/step\n",
      "1/1 [==============================] - 0s 17ms/step\n",
      "1/1 [==============================] - 0s 19ms/step\n",
      "1/1 [==============================] - 0s 19ms/step\n",
      "1/1 [==============================] - 0s 19ms/step\n",
      "1/1 [==============================] - 0s 17ms/step\n",
      "예측 요약 :  woman claims she was her during meeting\n",
      "\n",
      "\n",
      "원문 : taking a dig at the parties in opposition union minister hegde said that monkeys and have come together on one side while making a reference to prime minister narendra modi and 2019 lok sabha elections he added on the other side we have a tiger in 2019 choose to the tiger \n",
      "실제 요약 : sostoken have come together union min on opposition\n",
      "1/1 [==============================] - 0s 24ms/step\n",
      "1/1 [==============================] - 0s 20ms/step\n",
      "1/1 [==============================] - 0s 18ms/step\n",
      "1/1 [==============================] - 0s 19ms/step\n",
      "1/1 [==============================] - 0s 19ms/step\n",
      "1/1 [==============================] - 0s 19ms/step\n",
      "1/1 [==============================] - 0s 18ms/step\n",
      "예측 요약 :  pm modi like like pm\n",
      "\n",
      "\n",
      "원문 : a 20 year old woman in maharashtra's allegedly her 14 month old son to death and buried him with the help of her lover that the child might lead to problems for her and her lover the woman decided to kill the baby reports said the woman had with her lover and the baby had remained with the father \n",
      "실제 요약 : sostoken woman month old son with help of\n",
      "1/1 [==============================] - 0s 25ms/step\n",
      "1/1 [==============================] - 0s 20ms/step\n",
      "1/1 [==============================] - 0s 18ms/step\n",
      "1/1 [==============================] - 0s 18ms/step\n",
      "1/1 [==============================] - 0s 18ms/step\n",
      "1/1 [==============================] - 0s 19ms/step\n",
      "1/1 [==============================] - 0s 18ms/step\n",
      "1/1 [==============================] - 0s 19ms/step\n",
      "예측 요약 :  woman kills son for to kill\n",
      "\n",
      "\n",
      "원문 : a chinese murder suspect who to be for 12 years in an attempt to his identity ended up losing the power of speech for real the man allegedly killed his wife's uncle following a rent dispute and moved to another province under a false identity he was earlier this year and faces murder charges \n",
      "실제 요약 : sostoken murder suspect loses speech after playing for yrs\n",
      "1/1 [==============================] - 0s 26ms/step\n",
      "1/1 [==============================] - 0s 19ms/step\n",
      "1/1 [==============================] - 0s 19ms/step\n",
      "1/1 [==============================] - 0s 19ms/step\n",
      "1/1 [==============================] - 0s 19ms/step\n",
      "1/1 [==============================] - 0s 19ms/step\n",
      "1/1 [==============================] - 0s 18ms/step\n",
      "1/1 [==============================] - 0s 19ms/step\n",
      "예측 요약 :  man who to death in us\n",
      "\n",
      "\n",
      "원문 : comedian pant has released his third book the flying the book is about arjun singh an by day and a by night who is forced to work for an alcohol army comedian das has called it the novel while actor ayushmann khurrana called it and moving \n",
      "실제 요약 : sostoken pant releases book the flying\n",
      "1/1 [==============================] - 0s 23ms/step\n",
      "1/1 [==============================] - 0s 19ms/step\n",
      "1/1 [==============================] - 0s 18ms/step\n",
      "1/1 [==============================] - 0s 20ms/step\n",
      "1/1 [==============================] - 0s 19ms/step\n",
      "1/1 [==============================] - 0s 18ms/step\n",
      "예측 요약 :  yuvraj singh celebrates with\n",
      "\n",
      "\n",
      "원문 : a jawan has allegedly committed suicide by shooting himself with his service rifle at an army camp near the line of control in jammu and kashmir's police officials said that the jawan had the trigger after pointing his rifle beneath his the army has ordered a court of inquiry into the incident \n",
      "실제 요약 : sostoken jawan shoots self with service at army\n",
      "1/1 [==============================] - 0s 24ms/step\n",
      "1/1 [==============================] - 0s 19ms/step\n",
      "1/1 [==============================] - 0s 22ms/step\n",
      "1/1 [==============================] - 0s 18ms/step\n",
      "1/1 [==============================] - 0s 19ms/step\n",
      "1/1 [==============================] - 0s 19ms/step\n",
      "예측 요약 :  jawan commits suicide by\n",
      "\n",
      "\n",
      "원문 : actress sonali who has been undergoing treatment for cancer in new york since july said she's returning to her home in mumbai adding that the fight is not yet over happy and looking forward to this happy it's time to learn that there's a new normal out there i can't wait to it she added \n",
      "실제 요약 : sostoken fight not over comes to mumbai amid cancer treatment in us\n",
      "1/1 [==============================] - 0s 26ms/step\n",
      "1/1 [==============================] - 0s 19ms/step\n",
      "1/1 [==============================] - 0s 19ms/step\n",
      "1/1 [==============================] - 0s 19ms/step\n",
      "1/1 [==============================] - 0s 22ms/step\n",
      "1/1 [==============================] - 0s 18ms/step\n",
      "예측 요약 :  am going to mumbai\n",
      "\n",
      "\n",
      "원문 : based organisation robin army achieved its independence day mission serving 1 32 million people across india and pakistan on independence day the mission supported by saw over 10 000 volunteers across 48 cities reaching out to the less section of society last year the army had served over five lakh people as part of \n",
      "실제 요약 : sostoken army completes mission million mn people\n",
      "1/1 [==============================] - 0s 24ms/step\n",
      "1/1 [==============================] - 0s 19ms/step\n",
      "1/1 [==============================] - 0s 21ms/step\n",
      "1/1 [==============================] - 0s 19ms/step\n",
      "1/1 [==============================] - 0s 19ms/step\n",
      "1/1 [==============================] - 0s 18ms/step\n",
      "1/1 [==============================] - 0s 23ms/step\n",
      "1/1 [==============================] - 0s 17ms/step\n",
      "1/1 [==============================] - 0s 19ms/step\n",
      "예측 요약 :  army army launches its first ever independence\n",
      "\n",
      "\n",
      "원문 : an mit team has developed a system called that allows drones to fly through such as and which lets drones fly at models the of a position over time for navigation it searches the history of all its views to how it moves in places it cannot see \n",
      "실제 요약 : sostoken new tech helps fly drone in like\n",
      "1/1 [==============================] - 0s 23ms/step\n",
      "1/1 [==============================] - 0s 19ms/step\n",
      "1/1 [==============================] - 0s 20ms/step\n",
      "1/1 [==============================] - 0s 18ms/step\n",
      "1/1 [==============================] - 0s 23ms/step\n",
      "1/1 [==============================] - 0s 18ms/step\n",
      "1/1 [==============================] - 0s 18ms/step\n",
      "예측 요약 :  mit develops that can fly\n",
      "\n",
      "\n",
      "원문 : the supreme court has allowed two students suffering from colour vision to pursue the course this came after an expert committee comprising of doctors that colour vision does not significantly impact a ability to become a doctor the students had reportedly secured high marks in the entrance examination conducted by tripura government in 2015 \n",
      "실제 요약 : sostoken sc allows students to\n",
      "1/1 [==============================] - 0s 25ms/step\n",
      "1/1 [==============================] - 0s 23ms/step\n",
      "1/1 [==============================] - 0s 18ms/step\n",
      "1/1 [==============================] - 0s 19ms/step\n",
      "1/1 [==============================] - 0s 18ms/step\n",
      "1/1 [==============================] - 0s 19ms/step\n",
      "1/1 [==============================] - 0s 19ms/step\n",
      "예측 요약 :  sc allows students to in\n",
      "\n",
      "\n",
      "원문 : actress sharma while accusing casting director vicky of sexual harassment has revealed that vicky had once pushed her on the bed pulled off her pants and had forced himself on her hai you don't have b bs how will you work in the industry added while revealing what vicky had once told her \n",
      "실제 요약 : sostoken actress accuses director of rape attempt\n",
      "1/1 [==============================] - 0s 25ms/step\n",
      "1/1 [==============================] - 0s 19ms/step\n",
      "1/1 [==============================] - 0s 19ms/step\n",
      "1/1 [==============================] - 0s 22ms/step\n",
      "1/1 [==============================] - 0s 18ms/step\n",
      "1/1 [==============================] - 0s 20ms/step\n",
      "1/1 [==============================] - 0s 18ms/step\n",
      "1/1 [==============================] - 0s 19ms/step\n",
      "1/1 [==============================] - 0s 20ms/step\n",
      "예측 요약 :  was told off to work with me\n",
      "\n",
      "\n",
      "원문 : a study involving over 1 00 000 has provided another evidence of quantum which albert einstein deemed action at a distance the phenomenon states particles can influence each other even when they're separated over and not physically connected the random numbers generated from games were used in tests to measure \n",
      "실제 요약 : sostoken with lakh\n",
      "1/1 [==============================] - 0s 24ms/step\n",
      "1/1 [==============================] - 0s 19ms/step\n",
      "1/1 [==============================] - 0s 22ms/step\n",
      "1/1 [==============================] - 0s 18ms/step\n",
      "1/1 [==============================] - 0s 18ms/step\n",
      "1/1 [==============================] - 0s 21ms/step\n",
      "1/1 [==============================] - 0s 19ms/step\n",
      "1/1 [==============================] - 0s 18ms/step\n",
      "예측 요약 :  study reveals how did not have\n",
      "\n",
      "\n",
      "원문 : indian navy indian air force and indian coast guard have successfully rescued 700 fishermen affected by cyclone union defence minister nirmala sitharaman said on thursday those rescued also include five sri lankan fishermen she added the cyclone which struck the of tamil nadu kerala maharashtra and gujarat killed around 60 people and displaced hundreds of others \n",
      "실제 요약 : sostoken rescued defence minister\n",
      "1/1 [==============================] - 0s 22ms/step\n",
      "1/1 [==============================] - 0s 18ms/step\n",
      "1/1 [==============================] - 0s 18ms/step\n",
      "1/1 [==============================] - 0s 18ms/step\n",
      "1/1 [==============================] - 0s 18ms/step\n",
      "1/1 [==============================] - 0s 22ms/step\n",
      "1/1 [==============================] - 0s 18ms/step\n",
      "1/1 [==============================] - 0s 20ms/step\n",
      "예측 요약 :  navy rescue indian navy rescue in\n",
      "\n",
      "\n",
      "원문 : founder of bjp it cell has said that the cell has become like now he added during the 2014 campaign the it cell was being controlled from it was being run by the modi team and the started there he further said cannot fix the it cell until you fix the president nn \n",
      "실제 요약 : sostoken bjp it is like now founder\n",
      "1/1 [==============================] - 0s 24ms/step\n",
      "1/1 [==============================] - 0s 19ms/step\n",
      "1/1 [==============================] - 0s 19ms/step\n",
      "1/1 [==============================] - 0s 19ms/step\n",
      "1/1 [==============================] - 0s 22ms/step\n",
      "1/1 [==============================] - 0s 19ms/step\n",
      "1/1 [==============================] - 0s 19ms/step\n",
      "1/1 [==============================] - 0s 19ms/step\n",
      "1/1 [==============================] - 0s 18ms/step\n",
      "예측 요약 :  have become most of the better bjp\n",
      "\n",
      "\n",
      "원문 : a railway bridge at the station in uttar pradesh was by the northern railways within seven hours we installed the box and tracks were linked trains started immediately general manager v said it would have taken at least three months to the bridge using normal method he added \n",
      "실제 요약 : sostoken railways up bridge in hours\n",
      "1/1 [==============================] - 0s 25ms/step\n",
      "1/1 [==============================] - 0s 19ms/step\n",
      "1/1 [==============================] - 0s 19ms/step\n",
      "1/1 [==============================] - 0s 20ms/step\n",
      "1/1 [==============================] - 0s 19ms/step\n",
      "1/1 [==============================] - 0s 19ms/step\n",
      "예측 요약 :  railway station in up\n",
      "\n",
      "\n",
      "원문 : space laboratory 1 which had been declared out of control by china in 2016 could reportedly re enter the earth's atmosphere around march while most of the 8 5 tonne station is expected to burn during re entry experts fear humans could come in contact with of toxic rocket fuel launched in 2011 1 has hosted several unmanned and manned missions \n",
      "실제 요약 : sostoken china space could fall to earth by march\n",
      "1/1 [==============================] - 0s 23ms/step\n",
      "1/1 [==============================] - 0s 19ms/step\n",
      "1/1 [==============================] - 0s 19ms/step\n",
      "1/1 [==============================] - 0s 20ms/step\n",
      "1/1 [==============================] - 0s 18ms/step\n",
      "1/1 [==============================] - 0s 19ms/step\n",
      "1/1 [==============================] - 0s 19ms/step\n",
      "예측 요약 :  only of china in china\n",
      "\n",
      "\n",
      "원문 : us president donald trump said on monday that he has never worked for russia after a report claimed that the fbi investigated whether he worked against american interests it's a that you even ask that question because it's a whole big fat hoax trump told a reporter trump earlier said the officials who initiated the investigation were known \n",
      "실제 요약 : sostoken have never for russia says us president trump\n",
      "1/1 [==============================] - 0s 23ms/step\n",
      "1/1 [==============================] - 0s 20ms/step\n",
      "1/1 [==============================] - 0s 17ms/step\n",
      "1/1 [==============================] - 0s 18ms/step\n",
      "1/1 [==============================] - 0s 19ms/step\n",
      "1/1 [==============================] - 0s 18ms/step\n",
      "1/1 [==============================] - 0s 20ms/step\n",
      "1/1 [==============================] - 0s 18ms/step\n",
      "1/1 [==============================] - 0s 18ms/step\n",
      "예측 요약 :  never never seen russia on russia firing\n",
      "\n",
      "\n",
      "원문 : speaking at an event in goa bjp mp subramanian swamy on sunday refuted the popular belief that was born in lanka he said was born near delhi in a village named you can still go and see it there are big the area is called noida the rajya sabha mp added \n",
      "실제 요약 : sostoken was born in village in noida not lanka swamy\n",
      "1/1 [==============================] - 0s 25ms/step\n",
      "1/1 [==============================] - 0s 19ms/step\n",
      "1/1 [==============================] - 0s 18ms/step\n",
      "1/1 [==============================] - 0s 17ms/step\n",
      "1/1 [==============================] - 0s 19ms/step\n",
      "1/1 [==============================] - 0s 18ms/step\n",
      "1/1 [==============================] - 0s 18ms/step\n",
      "1/1 [==============================] - 0s 19ms/step\n",
      "1/1 [==============================] - 0s 20ms/step\n",
      "1/1 [==============================] - 0s 18ms/step\n",
      "1/1 [==============================] - 0s 18ms/step\n",
      "예측 요약 :  was born in delhi would be in my swamy\n",
      "\n",
      "\n",
      "원문 : designer paid a tribute to rajasthan's community through her collection of at india week inspired by the for nature the collection featured trees as a m y designs are drawing a between the modern day bride and a tree just like a tree she's grounded and she's out said \n",
      "실제 요약 : sostoken pays tribute to at week\n",
      "1/1 [==============================] - 0s 24ms/step\n",
      "1/1 [==============================] - 0s 19ms/step\n",
      "1/1 [==============================] - 0s 19ms/step\n",
      "1/1 [==============================] - 0s 18ms/step\n",
      "1/1 [==============================] - 0s 18ms/step\n",
      "예측 요약 :  pays tribute to\n",
      "\n",
      "\n",
      "원문 : airtel payments bank on thursday said it has received from the rbi to resume taking new customers the payments bank said it has also been permitted by the to resume adding new customers using aadhaar based the company was accused of using aadhaar based process to open payments bank accounts of subscribers without their consent \n",
      "실제 요약 : sostoken airtel payments bank gets to new customers\n",
      "1/1 [==============================] - 0s 24ms/step\n",
      "1/1 [==============================] - 0s 18ms/step\n",
      "1/1 [==============================] - 0s 19ms/step\n",
      "1/1 [==============================] - 0s 18ms/step\n",
      "1/1 [==============================] - 0s 19ms/step\n",
      "1/1 [==============================] - 0s 19ms/step\n",
      "1/1 [==============================] - 0s 19ms/step\n",
      "1/1 [==============================] - 0s 20ms/step\n",
      "1/1 [==============================] - 0s 19ms/step\n",
      "1/1 [==============================] - 0s 19ms/step\n",
      "예측 요약 :  bank rbi to get new notes from rbi\n",
      "\n",
      "\n",
      "원문 : an australian couple visiting hawaii their 400 ã¢ââ¹26 000 and offered to pay off her student loan debt 10 000 ã¢ââ¹6 4 lakh and the rest of her college who was working two jobs said i was like 'no way you donã¢âât have to do that ' but eventually agreed the couple said they wished to remain anonymous \n",
      "실제 요약 : sostoken couple us pays student of\n",
      "1/1 [==============================] - 0s 25ms/step\n",
      "1/1 [==============================] - 0s 18ms/step\n",
      "1/1 [==============================] - 0s 18ms/step\n",
      "1/1 [==============================] - 0s 19ms/step\n",
      "1/1 [==============================] - 0s 19ms/step\n",
      "1/1 [==============================] - 0s 19ms/step\n",
      "1/1 [==============================] - 0s 19ms/step\n",
      "1/1 [==============================] - 0s 20ms/step\n",
      "예측 요약 :  couple offers to pay for cr\n",
      "\n",
      "\n",
      "원문 : actor abhishek bachchan had a special appearance in the karan johar directorial khushi which completed 16 years of release today the scene featured him and actress kareena kapoor who portrayed the character in the film however the scene was deleted later and it did not make it to the final cut \n",
      "실제 요약 : sostoken abhishek had in which was\n",
      "1/1 [==============================] - 0s 22ms/step\n",
      "1/1 [==============================] - 0s 18ms/step\n",
      "1/1 [==============================] - 0s 19ms/step\n",
      "1/1 [==============================] - 0s 19ms/step\n",
      "1/1 [==============================] - 0s 19ms/step\n",
      "1/1 [==============================] - 0s 18ms/step\n",
      "1/1 [==============================] - 0s 17ms/step\n",
      "1/1 [==============================] - 0s 19ms/step\n",
      "예측 요약 :  abhishek bachchan to star in johar\n",
      "\n",
      "\n",
      "원문 : the supreme court on thursday held that a person obtaining jobs and under the reserved category by producing fake caste certificates will lose the job admission as well as the certificate the court dismissed bombay high court's verdict that if a person has been in the job for a long time and the certificate is found later he she can continue \n",
      "실제 요약 : sostoken jobs by using fake sc\n",
      "1/1 [==============================] - 0s 23ms/step\n",
      "1/1 [==============================] - 0s 18ms/step\n",
      "1/1 [==============================] - 0s 19ms/step\n",
      "1/1 [==============================] - 0s 19ms/step\n",
      "1/1 [==============================] - 0s 16ms/step\n",
      "1/1 [==============================] - 0s 19ms/step\n",
      "1/1 [==============================] - 0s 18ms/step\n",
      "1/1 [==============================] - 0s 18ms/step\n",
      "1/1 [==============================] - 0s 19ms/step\n",
      "1/1 [==============================] - 0s 17ms/step\n",
      "예측 요약 :  sc to pay crore for job in case\n",
      "\n",
      "\n",
      "원문 : swedish telecom equipment maker has asked the supreme court to prevent reliance communications rcom chairman anil ambani from leaving india till crore dues to it are cleared in its second contempt plea against ambani also sought his detention in civil prison ambani had given a personal guarantee to settle the dues by december 15 last year \n",
      "실제 요약 : sostoken prevent chief anil ambani from india to sc\n",
      "1/1 [==============================] - 0s 25ms/step\n",
      "1/1 [==============================] - 0s 19ms/step\n",
      "1/1 [==============================] - 0s 19ms/step\n",
      "1/1 [==============================] - 0s 19ms/step\n",
      "1/1 [==============================] - 0s 19ms/step\n",
      "1/1 [==============================] - 0s 20ms/step\n",
      "1/1 [==============================] - 0s 19ms/step\n",
      "예측 요약 :  anil ambani to india plea\n",
      "\n",
      "\n",
      "원문 : delhi cm arvind kejriwal's wife sunita kejriwal on tuesday called sacked aap minister kapil mishra a stupid man my brother in law is no more and this stupid man is speaking all written script without any mind she tweeted mishra has alleged that health minister jain had settled a ã¢ââ¹50 crore land deal for kejriwal's brother in law in area n \n",
      "실제 요약 : sostoken kejriwal wife calls kapil\n",
      "1/1 [==============================] - 0s 25ms/step\n",
      "1/1 [==============================] - 0s 18ms/step\n",
      "1/1 [==============================] - 0s 19ms/step\n",
      "1/1 [==============================] - 0s 18ms/step\n",
      "1/1 [==============================] - 0s 18ms/step\n",
      "1/1 [==============================] - 0s 19ms/step\n",
      "1/1 [==============================] - 0s 18ms/step\n",
      "1/1 [==============================] - 0s 18ms/step\n",
      "예측 요약 :  kejriwal wife in law case kejriwal\n",
      "\n",
      "\n",
      "원문 : the family of martyred bsf head constable prem have asked pm narendra modi and the bcci to stop india from playing pakistan in the champions trophy on sunday the late son said the government must understand the pain of the family of the was killed and his body was by pakistani soldiers last month \n",
      "실제 요약 : sostoken martyred bsf jawan family asks modi to stop india pak game\n",
      "1/1 [==============================] - 0s 24ms/step\n",
      "1/1 [==============================] - 0s 18ms/step\n",
      "1/1 [==============================] - 0s 18ms/step\n",
      "1/1 [==============================] - 0s 19ms/step\n",
      "1/1 [==============================] - 0s 19ms/step\n",
      "1/1 [==============================] - 0s 18ms/step\n",
      "1/1 [==============================] - 0s 18ms/step\n",
      "1/1 [==============================] - 0s 18ms/step\n",
      "1/1 [==============================] - 0s 19ms/step\n",
      "1/1 [==============================] - 0s 18ms/step\n",
      "예측 요약 :  pm modi responds to desh pm before family\n",
      "\n",
      "\n",
      "원문 : india will burn itself if it uses the tibet card to pressure on china amid the standoff between the indian and chinese in the sikkim sector chinese state media has warned this comes after the tibetan government in the country's flag on the of a lake in which lies between india and china \n",
      "실제 요약 : sostoken india will if it uses card chinese media\n",
      "1/1 [==============================] - 0s 25ms/step\n",
      "1/1 [==============================] - 0s 19ms/step\n",
      "1/1 [==============================] - 0s 19ms/step\n",
      "1/1 [==============================] - 0s 18ms/step\n",
      "1/1 [==============================] - 0s 19ms/step\n",
      "1/1 [==============================] - 0s 19ms/step\n",
      "1/1 [==============================] - 0s 18ms/step\n",
      "예측 요약 :  india to send to china\n",
      "\n",
      "\n",
      "원문 : finance ministers of six non bjp states are meeting in andhra pradesh today to discuss the 15th finance terms of reference and sharing of central funds finance ministers from andhra delhi puducherry west bengal kerala and punjab are attending the meet we will adopt a resolution against the 15th finance commission andhra finance minister said \n",
      "실제 요약 : sostoken of six non bjp states to meet fund sharing\n",
      "1/1 [==============================] - 0s 24ms/step\n",
      "1/1 [==============================] - 0s 19ms/step\n",
      "1/1 [==============================] - 0s 18ms/step\n",
      "1/1 [==============================] - 0s 19ms/step\n",
      "1/1 [==============================] - 0s 19ms/step\n",
      "1/1 [==============================] - 0s 18ms/step\n",
      "1/1 [==============================] - 0s 19ms/step\n",
      "1/1 [==============================] - 0s 18ms/step\n",
      "예측 요약 :  union ministers to meet andhra cm\n",
      "\n",
      "\n",
      "원문 : talking about the data scandal at facebook paytm coo kiran has said it is important that india doesn't allow these entities to our data to be sold and misused for their own gain he added that in light of facebook ceo mark testimony it is clear that their business model lies around selling of the data \n",
      "실제 요약 : sostoken india should not let firms data paytm on fb row\n",
      "1/1 [==============================] - 0s 25ms/step\n",
      "1/1 [==============================] - 0s 18ms/step\n",
      "1/1 [==============================] - 0s 18ms/step\n",
      "1/1 [==============================] - 0s 19ms/step\n",
      "1/1 [==============================] - 0s 19ms/step\n",
      "1/1 [==============================] - 0s 18ms/step\n",
      "1/1 [==============================] - 0s 19ms/step\n",
      "1/1 [==============================] - 0s 17ms/step\n",
      "예측 요약 :  data is not india data ceo\n",
      "\n",
      "\n",
      "원문 : the four transgender women who were earlier stopped by the kerala police from to sabarimala temple offered prayers at the shrine on tuesday they were given permission to pray at the temple on monday the group of four who were asked to wear men's attire if they wanted to enter the temple offered prayers at the shrine in n \n",
      "실제 요약 : sostoken transgender women denied entry visit sabarimala\n",
      "1/1 [==============================] - 0s 24ms/step\n",
      "1/1 [==============================] - 0s 19ms/step\n",
      "1/1 [==============================] - 0s 18ms/step\n",
      "1/1 [==============================] - 0s 19ms/step\n",
      "1/1 [==============================] - 0s 19ms/step\n",
      "1/1 [==============================] - 0s 18ms/step\n",
      "1/1 [==============================] - 0s 18ms/step\n",
      "1/1 [==============================] - 0s 18ms/step\n",
      "1/1 [==============================] - 0s 18ms/step\n",
      "예측 요약 :  women enter sabarimala temple to enter sabarimala\n",
      "\n",
      "\n",
      "원문 : arsenal goalkeeper has announced that he will retire at the end of the season the 36 year old won four premier league titles four the champions league and the league during his 11 year spell with chelsea he moved to arsenal in 2015 and went onto win another cup in 2017 \n",
      "실제 요약 : sostoken to at the end of the season\n",
      "1/1 [==============================] - 0s 23ms/step\n",
      "1/1 [==============================] - 0s 19ms/step\n",
      "1/1 [==============================] - 0s 19ms/step\n",
      "1/1 [==============================] - 0s 17ms/step\n",
      "1/1 [==============================] - 0s 19ms/step\n",
      "1/1 [==============================] - 0s 20ms/step\n",
      "1/1 [==============================] - 0s 19ms/step\n",
      "1/1 [==============================] - 0s 19ms/step\n",
      "1/1 [==============================] - 0s 18ms/step\n",
      "예측 요약 :  to be part of season in season\n",
      "\n",
      "\n",
      "원문 : paytm ceo vijay shekhar sharma has said he was told can't raise as the company doesn't have flipkart co founders century di dil le sharma said main se sharma added on funding from warren firm berkshire hathaway jack alibaba and son's softbank \n",
      "실제 요약 : sostoken was told cannot raise money paytm ceo\n",
      "1/1 [==============================] - 0s 24ms/step\n",
      "1/1 [==============================] - 0s 20ms/step\n",
      "1/1 [==============================] - 0s 20ms/step\n",
      "1/1 [==============================] - 0s 19ms/step\n",
      "1/1 [==============================] - 0s 21ms/step\n",
      "1/1 [==============================] - 0s 18ms/step\n",
      "1/1 [==============================] - 0s 18ms/step\n",
      "1/1 [==============================] - 0s 18ms/step\n",
      "1/1 [==============================] - 0s 19ms/step\n",
      "예측 요약 :  paytm ceo will not be paytm ceo\n",
      "\n",
      "\n",
      "원문 : an oxford university led research has found about 100 new marine species in a rare light zone at from 400 feet from the sea surface the discovery includes tiny several new species and 'black wire that stands up to two metres high the team also discovered a huge forest on an underwater mountain off coast \n",
      "실제 요약 : sostoken new found in\n",
      "1/1 [==============================] - 0s 25ms/step\n",
      "1/1 [==============================] - 0s 19ms/step\n",
      "1/1 [==============================] - 0s 20ms/step\n",
      "1/1 [==============================] - 0s 19ms/step\n",
      "1/1 [==============================] - 0s 18ms/step\n",
      "예측 요약 :  scientists new of\n",
      "\n",
      "\n",
      "원문 : singapore based venture fund venture capital arm on monday announced that it has raised million in funding plans to invest the fund in southeast asian and indian startups across enterprise technology financial technology and consumer internet previous two funds for southeast asia were fully funded by holdings \n",
      "실제 요약 : sostoken capital arm raises million\n",
      "1/1 [==============================] - 0s 23ms/step\n",
      "1/1 [==============================] - 0s 19ms/step\n",
      "1/1 [==============================] - 0s 18ms/step\n",
      "1/1 [==============================] - 0s 18ms/step\n",
      "1/1 [==============================] - 0s 18ms/step\n",
      "1/1 [==============================] - 0s 18ms/step\n",
      "1/1 [==============================] - 0s 19ms/step\n",
      "1/1 [==============================] - 0s 19ms/step\n",
      "예측 요약 :  raises mn funding in japan startups\n",
      "\n",
      "\n",
      "원문 : a journalist from the has received rape threats after video na was taken down from his official page on youtube while the video was taken down due to a copyright claim fans blamed the journalist as she had featured in a video against the has removed the video following the threats \n",
      "실제 요약 : sostoken journo gets rape threat after video taken down\n",
      "1/1 [==============================] - 0s 25ms/step\n",
      "1/1 [==============================] - 0s 18ms/step\n",
      "1/1 [==============================] - 0s 20ms/step\n",
      "1/1 [==============================] - 0s 18ms/step\n",
      "1/1 [==============================] - 0s 19ms/step\n",
      "1/1 [==============================] - 0s 17ms/step\n",
      "1/1 [==============================] - 0s 18ms/step\n",
      "예측 요약 :  journalist accused of raping journalist\n",
      "\n",
      "\n",
      "원문 : bihar deputy chief minister sushil kumar modi has said that under gst can be reduced to three from five at present in coming days he added that reducing the will take some time as it is related to states' revenue he also said that gst rates on many items were reduced with of revenue \n",
      "실제 요약 : sostoken gst can be to in future modi\n",
      "1/1 [==============================] - 0s 23ms/step\n",
      "1/1 [==============================] - 0s 20ms/step\n",
      "1/1 [==============================] - 0s 18ms/step\n",
      "1/1 [==============================] - 0s 18ms/step\n",
      "1/1 [==============================] - 0s 19ms/step\n",
      "1/1 [==============================] - 0s 19ms/step\n",
      "1/1 [==============================] - 0s 18ms/step\n",
      "1/1 [==============================] - 0s 18ms/step\n",
      "1/1 [==============================] - 0s 18ms/step\n",
      "1/1 [==============================] - 0s 19ms/step\n",
      "1/1 [==============================] - 0s 18ms/step\n",
      "예측 요약 :  gst rate will be in bihar bihar dy cm\n",
      "\n",
      "\n",
      "원문 : former indian captain sunil gavaskar said that former indian skipper ms dhoni is an absolute must for the world cup 2019 as indian captain virat kohli will benefit from dhoni's experience and inputs h e makes those small field talking to the bowlers telling them where to bowl and what to bowl it's a huge plus for virat gavaskar said \n",
      "실제 요약 : sostoken dhoni must for wc kohli needs him gavaskar\n",
      "1/1 [==============================] - 0s 24ms/step\n",
      "1/1 [==============================] - 0s 19ms/step\n",
      "1/1 [==============================] - 0s 18ms/step\n",
      "1/1 [==============================] - 0s 19ms/step\n",
      "1/1 [==============================] - 0s 18ms/step\n",
      "1/1 [==============================] - 0s 18ms/step\n",
      "1/1 [==============================] - 0s 18ms/step\n",
      "1/1 [==============================] - 0s 18ms/step\n",
      "1/1 [==============================] - 0s 19ms/step\n",
      "1/1 [==============================] - 0s 18ms/step\n",
      "1/1 [==============================] - 0s 19ms/step\n",
      "예측 요약 :  ms dhoni should be in the world cup gavaskar\n",
      "\n",
      "\n",
      "원문 : union finance minister arun jaitley has said that the agriculture credit flow target of ã¢ââ¹11 lakh crore for the financial year 2018 19 is by the banking sector adding that the of the target would significantly add to the of the farmers' income by 2022 he said banks must invest in long term assets for the agricultural sector \n",
      "실제 요약 : sostoken credit target of cr for next fm\n",
      "1/1 [==============================] - 0s 25ms/step\n",
      "1/1 [==============================] - 0s 18ms/step\n",
      "1/1 [==============================] - 0s 19ms/step\n",
      "1/1 [==============================] - 0s 19ms/step\n",
      "1/1 [==============================] - 0s 19ms/step\n",
      "1/1 [==============================] - 0s 18ms/step\n",
      "1/1 [==============================] - 0s 19ms/step\n",
      "1/1 [==============================] - 0s 18ms/step\n",
      "예측 요약 :  lakh crore in bank of govt\n",
      "\n",
      "\n",
      "원문 : the icc had requested indian fans to sell the tickets they purchased for the first semi final between england and pakistan in case they do not plan to attend the match indian fans had reportedly purchased 30 of the tickets before the teams were decided and the icc that the seats will go vacant requested the \n",
      "실제 요약 : sostoken indian fans buy eng pak tickets icc asks to\n",
      "1/1 [==============================] - 0s 24ms/step\n",
      "1/1 [==============================] - 0s 19ms/step\n",
      "1/1 [==============================] - 0s 19ms/step\n",
      "1/1 [==============================] - 0s 18ms/step\n",
      "1/1 [==============================] - 0s 19ms/step\n",
      "1/1 [==============================] - 0s 18ms/step\n",
      "1/1 [==============================] - 0s 19ms/step\n",
      "1/1 [==============================] - 0s 17ms/step\n",
      "1/1 [==============================] - 0s 19ms/step\n",
      "1/1 [==============================] - 0s 19ms/step\n",
      "1/1 [==============================] - 0s 17ms/step\n",
      "예측 요약 :  icc to buy for pakistan team for st time\n",
      "\n",
      "\n"
     ]
    }
   ],
   "execution_count": 79
  },
  {
   "metadata": {
    "ExecuteTime": {
     "end_time": "2024-06-14T05:19:47.445727Z",
     "start_time": "2024-06-14T05:19:47.428753Z"
    }
   },
   "cell_type": "code",
   "source": [
    "import requests\n",
    "from summa.summarizer import summarize"
   ],
   "id": "ff2b8ccebb597534",
   "outputs": [],
   "execution_count": 80
  },
  {
   "metadata": {
    "ExecuteTime": {
     "end_time": "2024-06-14T05:19:48.312704Z",
     "start_time": "2024-06-14T05:19:47.805416Z"
    }
   },
   "cell_type": "code",
   "source": "text = requests.get('http://rare-technologies.com/the_matrix_synopsis.txt').text",
   "id": "8f03a05c605504ad",
   "outputs": [],
   "execution_count": 81
  },
  {
   "metadata": {
    "ExecuteTime": {
     "end_time": "2024-06-14T05:19:48.666518Z",
     "start_time": "2024-06-14T05:19:48.658524Z"
    }
   },
   "cell_type": "code",
   "source": "print(text[:1500])",
   "id": "34a896304145481f",
   "outputs": [
    {
     "name": "stdout",
     "output_type": "stream",
     "text": [
      "The screen is filled with green, cascading code which gives way to the title, The Matrix.\r\n",
      "\r\n",
      "A phone rings and text appears on the screen: \"Call trans opt: received. 2-19-98 13:24:18 REC: Log>\" As a conversation takes place between Trinity (Carrie-Anne Moss) and Cypher (Joe Pantoliano), two free humans, a table of random green numbers are being scanned and individual numbers selected, creating a series of digits not unlike an ordinary phone number, as if a code is being deciphered or a call is being traced.\r\n",
      "\r\n",
      "Trinity discusses some unknown person. Cypher taunts Trinity, suggesting she enjoys watching him. Trinity counters that \"Morpheus (Laurence Fishburne) says he may be 'the One',\" just as the sound of a number being selected alerts Trinity that someone may be tracing their call. She ends the call.\r\n",
      "\r\n",
      "Armed policemen move down a darkened, decrepit hallway in the Heart O' the City Hotel, their flashlight beam bouncing just ahead of them. They come to room 303, kick down the door and find a woman dressed in black, facing away from them. It's Trinity. She brings her hands up from the laptop she's working on at their command.\r\n",
      "\r\n",
      "Outside the hotel a car drives up and three agents appear in neatly pressed black suits. They are Agent Smith (Hugo Weaving), Agent Brown (Paul Goddard), and Agent Jones (Robert Taylor). Agent Smith and the presiding police lieutenant argue. Agent Smith admonishes the policeman that they were given specific orders to contact the agents first, for their\n"
     ]
    }
   ],
   "execution_count": 82
  },
  {
   "metadata": {
    "ExecuteTime": {
     "end_time": "2024-06-14T05:19:49.878035Z",
     "start_time": "2024-06-14T05:19:49.410177Z"
    }
   },
   "cell_type": "code",
   "source": [
    "print('text:')\n",
    "print(summarize(text, ratio=0.005))"
   ],
   "id": "cafede600ae0d899",
   "outputs": [
    {
     "name": "stdout",
     "output_type": "stream",
     "text": [
      "text:\n",
      "Morpheus, Trinity, Neo, Apoc, Switch, Mouse and Cypher are jacked into the Matrix.\n",
      "Trinity brings the helicopter down to the floor that Morpheus is on and Neo opens fire on the three Agents.\n"
     ]
    }
   ],
   "execution_count": 83
  },
  {
   "metadata": {
    "ExecuteTime": {
     "end_time": "2024-06-14T05:19:50.391693Z",
     "start_time": "2024-06-14T05:19:49.920833Z"
    }
   },
   "cell_type": "code",
   "source": [
    "print('Summary:')\n",
    "print(summarize(text, ratio=0.005, split=True))"
   ],
   "id": "82ebdf941757b467",
   "outputs": [
    {
     "name": "stdout",
     "output_type": "stream",
     "text": [
      "Summary:\n",
      "['Morpheus, Trinity, Neo, Apoc, Switch, Mouse and Cypher are jacked into the Matrix.', 'Trinity brings the helicopter down to the floor that Morpheus is on and Neo opens fire on the three Agents.']\n"
     ]
    }
   ],
   "execution_count": 84
  },
  {
   "metadata": {
    "ExecuteTime": {
     "end_time": "2024-06-14T05:19:51.573252Z",
     "start_time": "2024-06-14T05:19:51.126542Z"
    }
   },
   "cell_type": "code",
   "source": [
    "print('Summary:')\n",
    "print(summarize(text, words=50))"
   ],
   "id": "af785a8435dff38",
   "outputs": [
    {
     "name": "stdout",
     "output_type": "stream",
     "text": [
      "Summary:\n",
      "Trinity takes Neo to Morpheus.\n",
      "Morpheus, Trinity, Neo, Apoc, Switch, Mouse and Cypher are jacked into the Matrix.\n",
      "Trinity brings the helicopter down to the floor that Morpheus is on and Neo opens fire on the three Agents.\n"
     ]
    }
   ],
   "execution_count": 85
  },
  {
   "metadata": {},
   "cell_type": "markdown",
   "source": [
    "루브릭\n",
    "아래의 기준을 바탕으로 프로젝트를 평가합니다.\n",
    "\n",
    "| 평가문항                                                                 | 상세기준                                                                                                                |\n",
    "|--------------------------------------------------------------------------|-------------------------------------------------------------------------------------------------------------------------|\n",
    "| 1. Abstractive 모델 구성을 위한 텍스트 전처리 단계가 체계적으로 진행되었다.   | 분석단계, 정제단계, 정규화와 불용어 제거, 데이터셋 분리, 인코딩 과정이 빠짐없이 체계적으로 진행되었다.                              |\n",
    "| 2. 텍스트 요약모델이 성공적으로 학습되었음을 확인하였다.                   | 모델 학습이 진행되면서 train loss와 validation loss가 감소하는 경향을 그래프를 통해 확인했으며, 실제 요약문에 있는 핵심 단어들이 요약 문장 안에 포함되었다. |\n",
    "| 3. Extractive 요약을 시도해 보고 Abstractive 요약 결과와 함께 비교해 보았다. | 두 요약 결과를 문법완성도 측면과 핵심단어 포함 측면으로 나누어 비교하고 분석 결과를 표로 정리하여 제시하였다.                           |"
   ],
   "id": "6e78f54e15d4d9d8"
  },
  {
   "metadata": {
    "ExecuteTime": {
     "end_time": "2024-06-14T02:43:12.296687Z",
     "start_time": "2024-06-14T02:43:12.282102Z"
    }
   },
   "cell_type": "code",
   "source": "",
   "id": "e06d091e33f17992",
   "outputs": [],
   "execution_count": 27
  }
 ],
 "metadata": {
  "kernelspec": {
   "display_name": "Python 3",
   "language": "python",
   "name": "python3"
  },
  "language_info": {
   "codemirror_mode": {
    "name": "ipython",
    "version": 2
   },
   "file_extension": ".py",
   "mimetype": "text/x-python",
   "name": "python",
   "nbconvert_exporter": "python",
   "pygments_lexer": "ipython2",
   "version": "2.7.6"
  }
 },
 "nbformat": 4,
 "nbformat_minor": 5
}
